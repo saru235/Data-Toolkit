{
  "nbformat": 4,
  "nbformat_minor": 0,
  "metadata": {
    "colab": {
      "provenance": []
    },
    "kernelspec": {
      "name": "python3",
      "display_name": "Python 3"
    },
    "language_info": {
      "name": "python"
    }
  },
  "cells": [
    {
      "cell_type": "markdown",
      "source": [
        "**##   DATA TOOLKIT**"
      ],
      "metadata": {
        "id": "OqnArOeMaJ6k"
      }
    },
    {
      "cell_type": "markdown",
      "source": [
        "  **Assignment Questions**"
      ],
      "metadata": {
        "id": "AcSPYWbNaVud"
      }
    },
    {
      "cell_type": "markdown",
      "source": [
        "**1.What is NumPy, and why is it widely used in Python?**"
      ],
      "metadata": {
        "id": "rJo-StE1aTGX"
      }
    },
    {
      "cell_type": "markdown",
      "source": [
        "- NumPy, or Numerical Python, is a fundamental library in Python used for numerical computing, providing support for large, multi-dimensional arrays and matrices along with an extensive collection of mathematical functions.\n",
        "- NumPy is Widely Used in python because of its\n",
        "**- Efficiency:** NumPy operations are conducted in C, ensuring that numerical computations are performed much faster than those done using standard Python lists, which tend to be slower due to their flexibility and dynamic typing\n",
        "\n",
        "**- Integration:** NumPy seamlessly integrates with other libraries such as Pandas for data manipulation, Matplotlib for visualization, and SciPy for additional scientific computations. This ecosystem enables users to handle complex workflows in data analysis and machine learning effortlessly\n",
        "\n",
        "**- Community and Support:** Being open-source with a large user community, NumPy is well-documented, ensuring that users have access to a wealth of resources and support when working with the library\n",
        "\n",
        "**- Vectorization:** NumPy allows for vectorized operations, which means you can apply mathematical operations across whole arrays without using explicit loops, making the code cleaner and more readable"
      ],
      "metadata": {
        "id": "N0lBMJUoav-6"
      }
    },
    {
      "cell_type": "markdown",
      "source": [
        "***2.How does broadcasting work in NumPy? ***"
      ],
      "metadata": {
        "id": "4jT3ZRgvdNEH"
      }
    },
    {
      "cell_type": "markdown",
      "source": [
        "-Broadcasting in NumPy allows smaller arrays to be stretched to match the shape of larger arrays during arithmetic operations, making operations efficient and memory-efficient.\n",
        "What is Broadcasting?\n",
        "Broadcasting is a powerful feature in NumPy that enables arithmetic operations on arrays of different shapes without the need for explicit data replication. It automatically stretches the smaller array's shape to match that of the larger one, allowing operations like addition, subtraction, multiplication, and division to be performed element-wise. This simplifies code and significantly improves performance by leveraging optimized C implementations under the hood\n",
        "\n",
        "**Rules of Broadcasting**\n",
        "NumPy follows a set of rules to determine whether arrays can be broadcast together:\n",
        "**1.Dimension Compatibility:**\n",
        "- If the arrays do not have the same number of dimensions, prepend the shape of the smaller array with ones until both shapes are equal.\n",
        "**2.Size Compatibility:**\n",
        "- When comparing the shapes of the arrays from the trailing dimensions (rightmost) to the left, two dimensions are compatible if:\n",
        "- They are equal, or\n",
        "- One of them is 1.\n",
        "**3.Broadcasting Failure:**\n",
        "If these conditions are not satisfied, NumPy raises a ValueError indicating the arrays cannot be broadcast together"
      ],
      "metadata": {
        "id": "fEmbgf7MdpnC"
      }
    },
    {
      "cell_type": "markdown",
      "source": [
        "**3.What is a Pandas DataFrame?**"
      ],
      "metadata": {
        "id": "TcXCF8USdqHx"
      }
    },
    {
      "cell_type": "markdown",
      "source": [
        "- A Pandas DataFrame is a two-dimensional, size-mutable data structure in Python that organizes data into rows and columns, resembling a table or spreadsheet.\n",
        "**Overview of a DataFrame**\n",
        "\n",
        " **- Structure:** A Pandas DataFrame consists of rows and columns, where each column can hold different data types (e.g., integers, floats, strings). This flexibility allows for heterogeneous data organization, making DataFrames powerful for data analysis\n",
        "\n",
        " **- Components:** Each DataFrame has labeled axes—rows and columns—facilitating the easy identification and manipulation of data\n",
        " The ability to perform arithmetic operations aligned on both row and column labels is a key characteristic, enabling complex calculations without loss of data integrity"
      ],
      "metadata": {
        "id": "4yEAo2Oidqto"
      }
    },
    {
      "cell_type": "markdown",
      "source": [
        "**4.Explain the use of the groupby() method in Pandas?**"
      ],
      "metadata": {
        "id": "M6oK5IyJdrNe"
      }
    },
    {
      "cell_type": "markdown",
      "source": [
        "- The groupby() method in Pandas is a powerful tool for splitting data into groups based on specific criteria, allowing for aggregation, transformation, and analysis of grouped data.\n",
        "\n",
        "**What is groupby()?**\n",
        "The groupby() method is used in Pandas to group data in a DataFrame or Series based on certain column values or index levels. This method allows you to perform operations on the grouped data, such as aggregation and filtering, making it essential for data analysis and manipulation.\n",
        "\n",
        "**How Does groupby() Work?**\n",
        "When you use groupby(), you essentially split the data into subsets based on defined keys, apply a specified function to each subset, and then combine the results back into a new DataFrame or Series. This three-step process can be summarized as follows:\n",
        "**1.Splitting:** Divides the data into groups based on a column or columns.\n",
        "**2.Applying:** Applies a function (aggregation, transformation, or filtration) to each group.\n",
        "**3.Combining: **Merges the results from each group into a structured output.\n",
        "\n",
        "**Why Use groupby()?**\n",
        "**Efficiency:** It allows for efficient data analysis by segmenting data into manageable groups.\n",
        "**Flexibility:** You can apply various operations (aggregation, transformation, filtering) to each group.\n",
        "**Powerful insights:** Helps uncover patterns and trends within your datasets.\n",
        "\n",
        "The groupby() method is a cornerstone of data analysis in Pandas, enabling users to perform intricate operations on datasets efficiently and effectively. By mastering this method, data practitioners can enhance their analysis and derive better insights from their data.\n"
      ],
      "metadata": {
        "id": "dSOWUEBcdrw1"
      }
    },
    {
      "cell_type": "markdown",
      "source": [
        "**5.Why is Seaborn preferred for statistical visualizations ?**"
      ],
      "metadata": {
        "id": "kdv9Tv_IdsI7"
      }
    },
    {
      "cell_type": "markdown",
      "source": [
        "- Seaborn is preferred for statistical visualizations due to its ease of use, aesthetic appeal, and strong integration with data manipulation tools like Pandas.\n",
        "**Key Advantages of Seaborn**\n",
        "\n",
        "  **1.Simplified Syntax:** Seaborn significantly reduces the amount of code needed to generate complex statistical plots compared to traditional libraries like Matplotlib. This makes it more accessible to users, allowing for quicker and less error-prone visualization creation\n",
        "\n",
        "  **2.Enhanced Aesthetics:** By default, Seaborn offers visually appealing themes and color palettes that enhance the clarity and attractiveness of visualizations. This refined aesthetic helps in presenting data insights more effectively\n",
        "\n",
        "  **3.Built-in Complex Plotting:** Seaborn excels in creating various complex statistical plots like heatmaps, violin plots, and pair plots, which are often crucial for data analysis. It automates many of these processes, making them easier to execute for users\n",
        "\n",
        "  **4.Integration with Pandas:** Seaborn is designed to integrate seamlessly with Pandas dataframes, which allow users to create plots directly from their data structures without the need for extensive conversion or manipulation\n",
        "\n",
        "  **5.Statistical Functions:** The library provides built-in statistical functions for visualizing distributions, fitting regression models, and creating correlation matrices, making it a powerful tool for data analysis\n",
        "\n",
        "  **6.Versatility:** Seaborn supports a wide variety of plot types to cater to diverse data visualization needs. From relational plots to categorical plots, it enables users to explore relationships between variables and the distribution of data effectively\n",
        "\n",
        "  Seaborn stands out as a preferred choice for statistical visualizations because it combines flexibility, beautiful design, and usability, making it suitable for both beginners and experienced data analysts. Its ability to simplify complex visualizations allows for deeper insights into data with less effort, enhancing the overall efficiency of data analysis workflows."
      ],
      "metadata": {
        "id": "ATcB7UY7dsqw"
      }
    },
    {
      "cell_type": "markdown",
      "source": [
        "**6.What are the differences between NumPy arrays and Python lists?**"
      ],
      "metadata": {
        "id": "1tT0eF5vduQb"
      }
    },
    {
      "cell_type": "markdown",
      "source": [
        "- **Differences between NumPy arrays and Python lists**\n",
        "**1. Performance**\n",
        "- NumPy Arrays: Faster due to optimized C-based implementation and support for vectorized operations.\n",
        "- Python Lists: Slower as they are implemented in Python and lack vectorized operations.\n",
        "\n",
        "**2. Data Type**\n",
        "- NumPy Arrays: Homogeneous; all elements must be of the same data type (e.g., integers, floats).\n",
        "- Python Lists: Heterogeneous; can store elements of different data types (e.g., integers, strings, objects).\n",
        "\n",
        "**3. Memory Efficiency**\n",
        "- NumPy Arrays: More memory-efficient due to compact storage and fixed data types.\n",
        "- Python Lists: Less memory-efficient as they store references to objects, which adds overhead.\n",
        "\n",
        "**4. Functionality**\n",
        "- NumPy Arrays: Provide a wide range of mathematical, statistical, and linear algebra operations.\n",
        "- Python Lists: Limited built-in functionality; require manual implementation or external libraries for advanced operations.\n",
        "\n",
        "**5. Indexing and Slicing**\n",
        "- NumPy Arrays: Support advanced slicing, boolean indexing, and multidimensional indexing.\n",
        "- Python Lists: Support basic slicing but lack advanced indexing features.\n",
        "\n",
        "**6. Mutability**\n",
        "- NumPy Arrays: Mutable; elements can be modified, but resizing is not straightforward.\n",
        "- Python Lists: Mutable; elements can be modified, and resizing (adding/removing elements) is simple.\n",
        "\n",
        "**7. Use Case**\n",
        "- NumPy Arrays: Ideal for numerical computations, data analysis, and scientific computing.\n",
        "- Python Lists: Better suited for general-purpose programming and when working with mixed data types.\n",
        "\n",
        "In summary, NumPy arrays are specialized for numerical and scientific tasks, offering speed and efficiency, while Python lists are more versatile for everyday programming tasks."
      ],
      "metadata": {
        "id": "a_k2ixlAdurT"
      }
    },
    {
      "cell_type": "markdown",
      "source": [
        "**7.What is a heatmap, and when should it be used?**"
      ],
      "metadata": {
        "id": "ZiY0CbxGdv04"
      }
    },
    {
      "cell_type": "markdown",
      "source": [
        "- A heatmap is a data visualization tool that uses colors to represent the magnitude of values in a dataset, making it easier to identify trends and patterns.\n",
        "**Definition of a Heatmap**\n",
        "A heatmap is a graphical representation of data in which individual values are represented by colors. It effectively allows the visualization of complex data sets, making it easier to identify patterns, correlations, and anomalies at a glance. Heatmaps typically utilize a color gradient, where cooler colors represent lower values, and warmer colors indicate higher values.\n",
        "\n",
        "**How Heatmaps Work**\n",
        "Heatmaps work by mapping data values to a color scale. For example, in many visualizations, blue may represent lower values, while red signifies higher values. This technique helps convey intricate information quickly and intuitively, allowing users to understand large datasets without needing to parse through raw numerical data.\n",
        "\n",
        "**Applications of Heatmaps**\n",
        "Heatmaps find usage across various fields, including:\n",
        "\n",
        "**Web Analytics:** They are used to visualize user interactions on websites, including clicking behaviors, scrolling patterns, and mouse movements, helping to optimize user experience.\n",
        "\n",
        "**Gene Expression:** In biology, heatmaps display gene expression data, allowing researchers to compare and analyze variability across different conditions or samples.\n",
        "\n",
        "**Risk Management:** In finance, heatmaps can visualize risk assessment data, helping organizations identify potential threats or weak areas.\n",
        "\n",
        "**Geographical Data:** They are also used to show density or distribution patterns, such as population density or temperature variations."
      ],
      "metadata": {
        "id": "n8sT8484dwU2"
      }
    },
    {
      "cell_type": "markdown",
      "source": [
        "**8.What does the term “vectorized operation” mean in NumPy ?**"
      ],
      "metadata": {
        "id": "EMV-xWozd38F"
      }
    },
    {
      "cell_type": "markdown",
      "source": [
        "- Vectorized operations in NumPy refer to applying mathematical operations on entire arrays or sequences without the need for explicit loops, leveraging optimized C implementations for better performance.\n",
        "**Definition of Vectorization**\n",
        "Vectorization in NumPy is the process of converting algorithms that operate on single values to ones that operate on entire arrays or sequences at once. This is done using optimized functions, removing the overhead associated with Python loops. In simpler terms, it allows for batch processing of data, which can significantly enhance performance, especially with large datasets\n",
        "\n",
        "**Advantages of Vectorization**\n",
        " **1.Efficiency:** Vectorized operations utilize low-level optimizations from C libraries which execute considerable computations much faster than equivalent Python for-loops. This efficiency becomes especially noticeable with large arrays\n",
        "\n",
        "**2.Conciseness and Readability:** Code becomes cleaner and more intuitive as it reduces the number of lines and complexity associated with manual iterations over data structures. For instance, adding two arrays can be expressed in one line (e.g., result = a + b) rather than multiple lines using a loop\n",
        "\n",
        "**3.Parallel Computation:** Vectorization can take advantage of parallel processing capabilities of modern CPUs by performing operations across multiple data points simultaneously\n",
        "\n",
        "**How Vectorization Works in NumPy**\n",
        "In NumPy, most arithmetic operations inherently use vectorized functions. For example, when you perform an operation like array1 + array2, the operation is applied element-wise directly to the arrays without explicit looping. Each corresponding element in array1 and array2 is added together in a single operation\n"
      ],
      "metadata": {
        "id": "y8rPCycsd4Ub"
      }
    },
    {
      "cell_type": "markdown",
      "source": [
        "**9.How does Matplotlib differ from Plotly?**"
      ],
      "metadata": {
        "id": "Q5hckgC9d5YJ"
      }
    },
    {
      "cell_type": "markdown",
      "source": [
        "- Matplotlib specializes in static, customizable visualizations, while Plotly excels at creating interactive, web-friendly plots, making each suited for different visualization needs.\n",
        "**Overview of Matplotlib**\n",
        "**- Type**: Primarily used for static visualizations.\n",
        "\n",
        "**- Customization:** Offers extensive customization options, allowing users to control every aspect of a figure, from colors and markers to axis labels and legends\n",
        "\n",
        "**- Usage:** Ideal for generating publication-quality plots such as line charts, bar graphs, and scatter plots. Matplotlib’s detailed API can support complex visualizations, making it favorable in academic and scientific settings\n",
        "\n",
        "**- Integration:** Well-integrated with other scientific libraries like NumPy and Pandas, facilitating data analysis and visualization workflows\n",
        "\n",
        "**- Learning Curve:** May have a steeper learning curve, especially for beginners due to its verbose syntax and complexity in deeply nested customizations\n",
        "\n",
        "**Overview of Plotly**\n",
        "**- Type:** Focuses on creating interactive visualizations that can be embedded in web applications or shared easily online\n",
        "\n",
        "**-Interactivity:** Users can zoom, pan, and hover for tooltips, enhancing data exploration capabilities Plotly’s interactive charts make it suitable for dashboards, reports, and presentations where user engagement is key\n",
        "\n",
        "**- Ease of Use:** Plotly Express, a higher-level interface, simplifies the creation of plots, allowing users to build complex visualizations with less code compared to Matplotlib\n",
        "\n",
        "**- Output:** Supports a variety of interactive plot types, including 3D plots, heatmaps, and geographic maps, which are essential for data storytelling\n",
        "\n",
        "**- Performance:** While interactive, Plotly can face performance issues with very large datasets due to browser rendering limitations, although it still handles interactivity better than static libraries\n"
      ],
      "metadata": {
        "id": "jfUnb-Yfd58K"
      }
    },
    {
      "cell_type": "markdown",
      "source": [
        "**10.What is the significance of hierarchical indexing in Pandas**"
      ],
      "metadata": {
        "id": "vvTmvaI9d6bR"
      }
    },
    {
      "cell_type": "markdown",
      "source": [
        "- Hierarchical indexing, also known as multi-indexing, is a powerful feature in Pandas that allows for more organized data representation, enabling efficient data selection, aggregation, and manipulation in complex datasets.\n",
        "**Enhanced Data Organization**\n",
        "Hierarchical indexing enables the structuring of data with multiple index levels, which is beneficial for managing and analyzing larger dimensional datasets in a more compact and readable format. Instead of relying on a single index, a multi-level index allows users to represent and differentiate data categories (like time periods or geographical locations) effectively, making the dataset more intuitive to navigate and update\n",
        "\n",
        "**Improved Data Selection and Retrieval**\n",
        "With hierarchical indexing, users can easily select data across different levels of the index. This facilitates advanced data retrieval operations, such as accessing subsets of data or filtering operations that would be cumbersome with flat structures. Functions like .loc, combined with multi-level indexing, allow for querying specific data points with higher specificity\n",
        "usavps.com For example, one can extract data by passing multiple keys or slices, making the analysis more straightforward and cohesive.\n",
        "\n",
        "**Facilitating Complex Aggregation and Grouping**\n",
        "Hierarchical indexing simplifies complex data aggregations and grouping operations, which are essential for data analysis tasks. By leveraging the groupby() functionality along with multi-level indices, users can perform sophisticated statistical analysis and summarize data efficiently\n",
        "Ducat India This is particularly useful in scenarios like pivoting data, where the relationships between multiple categories are key to understanding the dataset better.\n",
        "\n",
        "Conclusion\n",
        "In conclusion, hierarchical indexing in Pandas is significant for its capacity to organize complex datasets meaningfully, facilitate efficient data retrieval, and enable sophisticated analytics through aggregation. This feature enriches the data analysis capabilities of Pandas, making it an essential tool for data scientists and analysts dealing with multidimensional data. With its flexibility and practicality, hierarchical indexing allows users to perform complex operations with greater ease and understanding, ultimately leading to more insightful data analysis."
      ],
      "metadata": {
        "id": "r_bUHIYwd7it"
      }
    },
    {
      "cell_type": "markdown",
      "source": [
        "**11.What is the role of Seaborn’s pairplot() function?**"
      ],
      "metadata": {
        "id": "WxzRI80ad76p"
      }
    },
    {
      "cell_type": "markdown",
      "source": [
        "- Seaborn's pairplot() function is essential for visualizing pairwise relationships in a dataset, combining scatter plots and histograms to offer insights into correlations and distributions among multiple variables.\n",
        "**Overview of pairplot()**\n",
        "The pairplot() function in Seaborn is widely used in exploratory data analysis (EDA) to provide a comprehensive view of the relationships between variables in a dataset. This function generates a grid of plots where:\n",
        "\n",
        "- The **diagonal** displays the distribution of each variable, often as histograms or kernel density estimates (KDE).\n",
        "- The **off-diagonal** plots present scatter plots that visualize the relationships between different variable pairs.\n",
        "\n",
        "**Key Features**\n",
        "\n",
        "**- Visualizing Distributions:** Each diagonal subplot showcases the distribution of a single variable, which helps to understand the data's spread and central tendencies. This can include histograms or KDE plots\n",
        "\n",
        "**- Identifying Relationships:** The off-diagonal subplots allow for examining how different variables correlate with one another, displaying patterns that may indicate linear, nonlinear, or categorical relationships\n",
        "\n",
        "**- Customization Options:** Users can customize pairplot() with parameters such as hue for color coding based on a categorical variable, kind to specify the type of plot (e.g., scatter, histogram), and diag_kind for diagonal plots (e.g., KDE, histograms)\n",
        "\n",
        "**- Handling Large Datasets:** It is beneficial for quickly visualizing relationships within large datasets, although it might be computationally intensive. Filtering or downsampling data can alleviate performance issues when needed\n",
        "\n",
        "**- Feature Selection:** pairplot() serves as a valuable tool in feature selection, enabling data scientists to identify which variables have significant relationships worth exploring further"
      ],
      "metadata": {
        "id": "f9Ae7Gr4kZqc"
      }
    },
    {
      "cell_type": "markdown",
      "source": [
        "**12.What is the purpose of the describe() function in Pandas?**"
      ],
      "metadata": {
        "id": "hBeCWbMykhen"
      }
    },
    {
      "cell_type": "markdown",
      "source": [
        "- The describe() function in Pandas is used to generate descriptive statistics, which summarize the central tendency, dispersion, and shape of a dataset's distribution.\n",
        "\n",
        "**Overview of the describe() Function**\n",
        "The describe() method provides an easy way to quickly understand key statistics of a DataFrame, particularly for numerical data. It generates a summary that includes:\n",
        "\n",
        "**count:** The number of non-null entries in each column.\n",
        "\n",
        "**mean:** The average value of the column.\n",
        "\n",
        "**std:** The standard deviation, which measures the amount of variation or dispersion in the dataset.\n",
        "\n",
        "**min:** The minimum value in the column.\n",
        "\n",
        "**25%:** The 25th percentile, reflecting the value below which 25% of the data falls (first quartile).\n",
        "\n",
        "**50%:** The median (or 50th percentile) of the column values.\n",
        "\n",
        "**75%:** The 75th percentile (third quartile).\n",
        "max: The maximum value in the column.\n",
        "\n",
        "**Customization Options**\n",
        "The describe() function allows customization through parameters that specify which columns to include, which types of data to exclude, and other settings:\n",
        "\n",
        "**include:** Allows you to specify which types of columns to include in the summary (e.g., all columns, only numeric, etc.). Example usage: df.describe(include='all').\n",
        "\n",
        "**exclude:** Specifies data types to exclude from the summary.\n",
        "\n",
        "**percentiles:** You can provide a list of additional percentiles to be calculated, for example: df.describe(percentiles=[0.1, 0.5, 0.9]) to calculate the 10th, 50th, and 90th percentiles.\n",
        "\n",
        "**Handling Non-Numeric Data**\n",
        "The describe() function is not limited to numeric columns. When used with non-numeric data, it provides different statistics such as:\n",
        "\n",
        "**count:** Number of non-null entries.\n",
        "\n",
        "**unique:** Number of unique values.\n",
        "\n",
        "**top:** The most frequent value.\n",
        "\n",
        "**freq:** The frequency of the most frequent value."
      ],
      "metadata": {
        "id": "VTaB4txzd8WI"
      }
    },
    {
      "cell_type": "markdown",
      "source": [
        "**13.Why is handling missing data important in Pandas?**"
      ],
      "metadata": {
        "id": "2N0HtK1ok5Tw"
      }
    },
    {
      "cell_type": "markdown",
      "source": [
        "- Handling missing data in Pandas is crucial because it directly impacts the accuracy of analysis, modeling performance, and the reliability of conclusions drawn from datasets.\n",
        "\n",
        "Why is Missing Data a Problem?\n",
        "**1.Bias in Analysis:** Missing data can lead to biased results if the missingness is related to the outcome you're analyzing (this is often categorized as Missing Not At Random (MNAR)). If important data points are missing systematically, it can skew your insights and lead to faulty conclusions.\n",
        "**2.Loss of Information:** Ignoring missing data can result in a significant loss of information, especially if the missing values represent a substantial portion of the dataset. This can introduce gaps in understanding trends or patterns within the data.\n",
        "**3.Reducing Sample Size:** Missing data reduces the effective sample size, which can decrease the statistical power of your analysis. This can result in less reliable estimates and lower confidence in the findings derived from the data.\n",
        "**Impact on Model Performance: **Many machine learning algorithms require complete datasets. Missing values may cause algorithms to fail or produce inaccurate predictions, as they cannot handle gaps effectively.\n",
        "\n",
        "**Best Practices for Handling Missing Data in Pandas**\n",
        "**1.Identify Missing Values:** Use functions like isnull() or notnull() to detect missing values. Understanding where and how much data is missing is a key first step in addressing it effectively\n",
        "\n",
        "**2.Imputation:** Replace missing values with suitable substitutes (mean, median, mode). For numerical data, mean or median imputation is common, while mode imputation is used for categorical data. This helps in maintaining dataset size while providing reasonable estimates for analysis\n",
        "\n",
        "**3.Removing Missing Values:** In some cases, especially when the amount of missing data is minimal, you can use dropna() to remove rows or columns containing missing values. This is effective when you are sure that the analyses won't be significantly impacted by the loss of these entries\n",
        "\n",
        "**4.Advanced Techniques: **Consider more robust methods like forward or backward filling for time series data, or employing model-based imputation methods for more complex datasets\n",
        "\n",
        "**5.Understanding Missing Data Mechanisms:** It's beneficial to recognize the type of missing data you are dealing with — whether it's Missing Completely at Random (MCAR), Missing at Random (MAR), or MNAR. This understanding aids in choosing the right strategy for handling it effectively\n",
        "\n",
        "Handling missing data is a vital part of the data cleaning and preprocessing stage in any analysis workflow, particularly when using Pandas. Effective management of missing data not only enhances the quality of your analysis but also ensures that the insights drawn are accurate and actionable. Ignoring missing values can compromise the integrity of analysis, leading to potentially erroneous decisions based on incomplete information. Thus, being proactive and strategic in handling missing data is essential for any data analyst aiming for success in their work.\n",
        "\n"
      ],
      "metadata": {
        "id": "3YvhtEkFk4-Z"
      }
    },
    {
      "cell_type": "markdown",
      "source": [
        "**14.What are the benefits of using Plotly for data visualization ?**"
      ],
      "metadata": {
        "id": "eQhqX5b2k4Rc"
      }
    },
    {
      "cell_type": "markdown",
      "source": [
        "- Plotly enhances data visualization through its interactive charts, cross-platform compatibility, ease of use, and extensive customization options.\n",
        "- **Key Benefits of Plotly**\n",
        "**1.Interactive Visualizations:** Plotly allows users to create highly interactive charts and graphs. Viewers can zoom in, hover over data points for detailed information, and manipulate visualizations, which enhances data exploration and comprehension\n",
        "\n",
        "**2.User-Friendly Interface:** Plotly is designed to be accessible for both beginners and experienced data scientists. Its intuitive drag-and-drop interface eliminates the need for extensive programming knowledge, making it easier to create complex visualizations quickly\n",
        "\n",
        "**3.Wide Range of Chart Types:** Users can create a variety of visualization types, including line charts, bar charts, scatter plots, heatmaps, and even 3D plots. This versatility allows users to choose the most effective way to represent their data\n",
        "\n",
        "**4.Cross-Platform Compatibility:** Plotly supports multiple programming languages, including Python, R, and JavaScript. This makes it a flexible tool that can be integrated into different tech stacks and applications\n",
        "\n",
        "**5.Customization and Flexibility:** Plotly offers robust customization options, allowing users to adjust colors, fonts, and layouts to meet specific visualization needs. It also supports embedding the visualizations in web applications easily, providing extensive flexibility\n",
        "\n",
        "**6.Integration with Dash:** For users looking to build interactive dashboards, Plotly's integration with Dash allows for the creation of complex web applications without requiring extensive web development skills. This capability is particularly useful for business intelligence applications\n",
        "\n",
        "**7.Advanced Analytics Features:** Plotly includes built-in tools for advanced analytics, such as machine learning and statistical modeling, making it suitable for professionals dealing with high-powered data analysis\n",
        "\n",
        "Cost-Effective Solutions: By consolidating numerous capabilities into one platform, Plotly can reduce the need for multiple software tools, saving costs on development and IT resources\n",
        "\n",
        "In summary, Plotly stands out as a powerful and versatile tool for data visualization, offering interactive features, user-friendliness, and extensive customization that cater to a wide range of users and applications. It is well-suited for anyone looking to gain insights from their data efficiently."
      ],
      "metadata": {
        "id": "Cpq01VTHk3sP"
      }
    },
    {
      "cell_type": "markdown",
      "source": [
        "**15.How does NumPy handle multidimensional arrays?**"
      ],
      "metadata": {
        "id": "OKPJTsiOk3aG"
      }
    },
    {
      "cell_type": "markdown",
      "source": [
        "- NumPy provides efficient, flexible ways to create, manipulate, and perform operations on multidimensional arrays, enabling powerful numerical computations.\n",
        "Overview of Multidimensional Arrays in NumPy\n",
        "     NumPy’s core feature is the ndarray (n-dimensional array), which allows users to create arrays that can have any number of dimensions (from 0D to 32D). This allows for efficient storage and manipulation of data in various applications, such as scientific computing, data analysis, and machine learning.\n",
        "\n",
        "**1.Creating Multidimensional Arrays:**\n",
        "\n",
        " - You can create arrays of various dimensions using the np.array() function. For example, to create a 2D array (matrix), you can use:\n",
        "\n",
        "     import numpy as np\n",
        "     arr_2d = np.array([[1, 2, 3], [4, 5, 6]])\n",
        "\n",
        " - For a 3D array (tensor), you would nest multiple 2D arrays:\n",
        "\n",
        "arr_3d = np.array([[[1, 2], [3, 4]], [[5, 6], [7, 8]]])\n",
        "\n",
        "** Properties of NumPy Arrays**\n",
        " **- Shape and Size:** The shape of an ndarray describes the number of elements along each dimension, and it is defined as a tuple. For example, a 2D array like arr_2d has a shape of (2, 3), indicating 2 rows and 3 columns.\n",
        " **- Indexing and Slicing:**\n",
        "- NumPy arrays can be indexed and sliced similarly to lists but allow for multi-dimensional indexing.\n",
        "- For example, to access an element in a 2D array, you can do arr_2d[1, 2] to get the element in the second row and the third column.\n",
        "- Slicing can also be performed along a single or multiple dimensions. For instance, arr_2d[:, 1] retrieves all elements from the second column.\n",
        "\n",
        " -** Indexing can be done through coordinates **as well, allowing users to directly access elements using multi-dimensional indices\n",
        "\n",
        " **Key Functions for Multidimensional Arrays**\n",
        "**Creation:** Functions like np.zeros(), np.ones(), and np.full() are commonly used to create arrays initialized with specific values. You can also create random arrays using np.random.rand() and np.random.randint()\n",
        "\n",
        "**Manipulation: **Array methods such as flatten(), transpose(), and more allow you to easily modify and manipulate array structures for analysis or computation.\n",
        "\n",
        "By utilizing these features, NumPy significantly simplifies working with multidimensional arrays in Python, enhancing both performance and usability across various scientific and analytical applications."
      ],
      "metadata": {
        "id": "JbT8Bhsqk29i"
      }
    },
    {
      "cell_type": "markdown",
      "source": [
        "**16.What is the role of Bokeh in data visualization ?**"
      ],
      "metadata": {
        "id": "9M7VjdwBk67p"
      }
    },
    {
      "cell_type": "markdown",
      "source": [
        "- Bokeh is an interactive data visualization library in Python that enables the creation of web-ready, visually appealing visualizations, particularly suited for large datasets and real-time data applications.\n",
        "**Overview of Bokeh**\n",
        "Bokeh is an open-source visualization library that provides tools for creating interactive and engaging visualizations in modern web browsers. Unlike other libraries such as Matplotlib or Seaborn, Bokeh draws its plots using HTML and JavaScript, making it ideal for creating interactive dashboards or applications\n",
        "\n",
        "**Key Features of Bokeh**\n",
        "**1.Interactivity:** Bokeh allows users to create highly interactive visualizations. Users can explore data through features like zooming, panning, and tooltips that display additional information when hovering over data points\n",
        "\n",
        "**2.Flexibility:** Bokeh offers both simple and complex charting capabilities. It supports a wide range of plots including line graphs, scatter plots, bar charts, and more advanced visualizations like heatmaps and pie charts, making it suitable for various types of data\n",
        "\n",
        "**3.Integration with Web Technologies:** Bokeh visualizations can be easily embedded into web applications using frameworks like Flask and Django. This capability enables the creation of live dashboards and interactive reports\n",
        "\n",
        "**4.Customizability:** Users can create custom themes and modify chart aesthetics through a variety of styling options, including colors, fonts, and various glyph shapes, which enhances the visual appeal of data representations\n",
        "\n",
        "**5.Server Functionality:** Bokeh can run within its server, allowing for the creation of interactive applications where data can be updated in real-time. This feature is particularly beneficial for monitoring applications and dynamic datasets\n",
        "\n",
        "**Use Cases of Bokeh**\n",
        "**- Dashboards:** Bokeh is widely used for real-time dashboards that visualize data streams, allowing users to monitor metrics and trends effectively.\n",
        "**- Data Analysis:** It facilitates exploratory data analysis by enabling data scientists to visualize complex datasets dynamically, making it easier to identify patterns and insights\n",
        "**- Presentations:** Bokeh's visually appealing output makes it a great choice for academic papers and business presentations where engaging visuals can drive home key insights and data storytelling .\n",
        "\n",
        "**Conclusion**\n",
        "Bokeh plays a crucial role in the field of data visualization by providing interactive and flexible tools that cater to modern web standards. Its ability to integrate with other Python libraries, deliver rich visuals, and handle large datasets makes it an invaluable asset for data analysts, scientists, and developers looking to convey information effectively through visual means. Whether for simple plots or complex dashboards, Bokeh stands out for its adaptability and functionality"
      ],
      "metadata": {
        "id": "vAam_TDUox77"
      }
    },
    {
      "cell_type": "markdown",
      "source": [
        "**17.Explain the difference between apply() and map() in Pandas?**"
      ],
      "metadata": {
        "id": "GeeYxNI_oz4P"
      }
    },
    {
      "cell_type": "markdown",
      "source": [
        "- The main difference between apply() and map() in Pandas lies in their usage and the scope of their application; apply() works with both DataFrames and Series for more complex operations, while map() is used exclusively with Series for element-wise transformations.\n",
        "\n",
        "**Definitions**\n",
        "**- map():** A method designed specifically for Pandas Series, allowing for simple element-wise transformations. It can accept a function, dictionary, or Series to map values from one domain to another, returning a new Series. It's useful for straightforward operations like replacing values based on a mapping.\n",
        "\n",
        "**- apply():** A more versatile method available for both DataFrames and Series. It allows for applying any function along a specified axis of a DataFrame (row-wise or column-wise) or to each element in a Series. It's suitable for row-wise operations, aggregations, and more complex calculations that often cannot be vectorized efficiently.\n",
        "\n",
        "**Scope of Operation**\n",
        "**- Element-wise:** map() operates element-wise on the Series-level. For example:\n",
        "df['A'].map({'old_value': 'new_value',...})\n",
        "\n",
        "**Row/Column-based:** apply() can apply a function either row-wise or column-wise on a DataFrame and can operate on each element within a Series. For example, applying a function to calculate the sum of a specific column would look something like this:\n",
        "df.apply(np.sum, axis=0) # Column-wise\n",
        "\n",
        "**Use Cases**\n",
        "**When to Use map():**\n",
        "\n",
        "- For straightforward transformations on a Series, especially useful for substituting values and performing quick look-ups or mappings.\n",
        "\n",
        "- Example:\n",
        "df['grade'] = df['score'].map({85: 'A', 70: 'B', 50: 'C'})  # Maps scores to grades\n",
        "\n",
        "**- When to Use apply():**\n",
        "\n",
        "- When applying complex functions that cannot be easily vectorized or that need to operate across an entire row or column.\n",
        "- Example:\n",
        "df['new_column'] = df.apply(lambda row: row['col1'] + row['col2'], axis=1)  # Summing two columns for each row\n",
        "\n",
        "**Performance**\n",
        "**- Efficiency:** Generally, map() is faster for simple element-wise operations due to its optimizations for Series, while apply() can be slower because it may involve evaluating more complex functions and potentially looping through DataFrame rows or columns.\n",
        "\n",
        "**Key Summary**\n",
        "\n",
        "**- map():**\n",
        "\n",
        "   **- Usage:** Exclusively on Series\n",
        "\n",
        "   **- Functionality:** Element-wise operations for transforming or replacing values\n",
        "\n",
        "   **- Input: **Can accept a callable, dictionary, or Series\n",
        "\n",
        "**- apply():**\n",
        "\n",
        "**- Usage:** On both DataFrames and Series\n",
        "\n",
        "**- Functionality:** Can perform row-wise or column-wise simplifications, aggregations, and complex function applications\n",
        "\n",
        "**- Input:** Requires a callable function"
      ],
      "metadata": {
        "id": "t2Ic9Tdao0nM"
      }
    },
    {
      "cell_type": "markdown",
      "source": [
        "**18.What are some advanced features of NumPy?**"
      ],
      "metadata": {
        "id": "ifi5QIOuo1Y8"
      }
    },
    {
      "cell_type": "markdown",
      "source": [
        "- NumPy offers a range of advanced features and capabilities designed for efficient numerical computations, making it indispensable for scientific computing and data analysis.\n",
        "**1. Multi-Dimensional Arrays**\n",
        "NumPy's core feature is its support for multi-dimensional arrays, known as ndarray. These arrays provide a convenient way to create and manipulate large datasets efficiently, enabling complex mathematical operations and transformations without the overhead of Python lists\n",
        "Python Geeks\n",
        "\n",
        "**2. Broadcasting**\n",
        "Broadcasting is a powerful mechanism that allows NumPy to perform arithmetic operations on arrays of different shapes. It intelligently aligns the dimensions of the involved arrays, enabling element-wise operations without requiring explicit loops. This feature simplifies the code and greatly enhances performance\n",
        "\n",
        "**3. Vectorized Operations**\n",
        "NumPy supports vectorized operations, allowing users to apply mathematical functions to entire arrays at once, rather than element-by-element. This leads to faster execution times and much simpler code, especially when working with large datasets\n",
        "Python Geeks\n",
        "\n",
        "**4. Linear Algebra Support**\n",
        "The library includes extensive functionality for linear algebra operations such as matrix multiplication, determinants, eigenvalue computation, and solving linear equations. These capabilities make NumPy a vital tool for scientists and engineers working on mathematical models\n",
        "Python Geeks\n",
        "\n",
        "**5. Random Number Generation**\n",
        "NumPy's numpy.random module provides powerful tools for generating random numbers from various distributions. This is essential for simulations, statistical analyses, and other applications where randomness is required\n",
        "\n",
        "**6. Integration with Other Libraries**\n",
        "NumPy integrates seamlessly with other key libraries in the Python ecosystem, such as Pandas for data manipulation, Matplotlib for visualization, and SciPy for advanced scientific computing. This interoperability enhances the effectiveness of data analysis workflows\n",
        "Python Geeks\n",
        "\n",
        "**7. Performance Optimization**\n",
        "NumPy's implementation is written in C, providing significant performance improvements over native Python collections. This allows NumPy to handle large datasets efficiently, taking advantage of hardware acceleration features\n",
        "\n",
        "**8. Universal Functions (ufuncs)**\n",
        "NumPy provides Universal Functions (ufuncs) that perform element-wise operations on arrays for mathematical functions. Ufuncs are optimized for performance and can handle arrays of any shape and size efficiently\n",
        "DataFlair\n",
        "\n",
        "**9. Masked and Structured Arrays**\n",
        "NumPy supports masked arrays, which allow for operations on datasets with missing or invalid values by masking these elements. Additionally, structured arrays enable users to work with data that has fields of different types, making it easier to handle complex datasets\n",
        "Python Geeks\n",
        "\n",
        "**10. High-Level Mathematical Functions**\n",
        "The library includes a comprehensive set of mathematical functions that can operate directly on arrays, ranging from basic arithmetic to complex mathematical computations like trigonometric functions and Fourier transforms\n",
        "\n",
        "**Conclusion**\n",
        "NumPy's advanced features, such as broadcasting, vectorized operations, and robust linear algebra support, make it a powerful tool for numerical computing in Python. Leveraging these capabilities, data scientists and engineers can efficiently manage and analyze large datasets, ensuring high performance and scalability in their applications"
      ],
      "metadata": {
        "id": "WD7u7LDIo2or"
      }
    },
    {
      "cell_type": "markdown",
      "source": [
        "**19.How does Pandas simplify time series analysis?**"
      ],
      "metadata": {
        "id": "xUrPtbY4o3IC"
      }
    },
    {
      "cell_type": "markdown",
      "source": [
        "- Pandas simplifies time series analysis through powerful data structures, efficient methods for date-time manipulation, and features that enable complex time-based operations easily.\n",
        "**Key Features of Pandas for Time Series Analysis**\n",
        " **1.DatetimeIndex and Time-Aware Data Structures:**\n",
        "  - Pandas allows you to set timestamps as index values, enabling time-based indexing. This means you can easily slice, filter, and resample your data without complex conditions. This functionality is crucial for analyzing trends and patterns over time\n",
        "\n",
        "**2.Conversion to Datetime Format:**\n",
        "- Using the to_datetime() function, you can convert string representations of dates into Pandas datetime objects. This ensures your data is in the correct format for time-based operations, enhancing the versatility of your datasets\n",
        "\n",
        "**3.Resampling Methods:**\n",
        "The resample() method in Pandas allows for time-based grouping and aggregation, such as converting daily data into monthly summaries or vice versa. This flexibility aids in examining time series at different granularities\n",
        "\n",
        "**4.Time-Based Slicing:**\n",
        "The ability to utilize natural language-like syntax for filtering data makes it straightforward to isolate data within specific time frames without complex conditions—greatly simplifying the code necessary for these types of selections\n",
        "\n",
        "**5.Handling Missing Data:**\n",
        "Missing data often complicates time series analysis. Pandas provides built-in methods for forward filling, backward filling, and interpolation, allowing users to manage gaps effectively and ensure the integrity of the dataset\n",
        "\n",
        "**6.Rolling and Expanding Window Calculations:**\n",
        "Techniques such as rolling or expanding windows enable the calculation of metrics like moving averages over specified periods. This is beneficial for smoothing out fluctuations and analyzing immediate trends in the data\n",
        "\n",
        "**7.Time Zone Handling:**\n",
        "Working with globally distributed datasets necessitates accurate timezone management. Pandas supports easy localization and conversion of time zones, which is vital for maintaining consistency in time analysis across regions\n",
        "\n",
        "**8.Visualization Integration:**\n",
        "Pandas integrates well with visualization libraries like Matplotlib, allowing you to create plots that help illustrate time series trends clearly, enhancing your ability to communicate insights from your data\n"
      ],
      "metadata": {
        "id": "F_i4oX5Wo3ss"
      }
    },
    {
      "cell_type": "markdown",
      "source": [
        "**20.What is the role of a pivot table in Pandas?**"
      ],
      "metadata": {
        "id": "kFatbZGXo4PT"
      }
    },
    {
      "cell_type": "markdown",
      "source": [
        "- Pivot tables in Pandas serve as powerful tools for data summarization, enabling users to aggregate, reorganize, and analyze data efficiently.\n",
        "\n",
        "**Key Roles of Pivot Tables**\n",
        "\n",
        "  **1.Data Aggregation:**  Pivot tables allow users to perform various aggregate functions such as sums, averages, and counts. This aggregation helps to reduce complex datasets into more understandable summaries. For instance, you can compute the total sales for each product category across different regions\n",
        "\n",
        "  **2.Data Reshaping: **They enable the dynamic reorganization of data by transforming rows into columns and vice versa. This reshaping highlights specific aspects of data, making patterns and trends more noticeable\n",
        "\n",
        "  **3.Enhanced Analysis:** Pivot tables simplify the analysis of relationships within the data. By comparing different dimensions (like product categories against sales regions), users can uncover insights that raw data might obscure\n",
        "\n",
        "  **4.Managing Missing Data:** Pivot tables come with built-in options to handle missing values through parameters like fill_value and dropna, ensuring that the resulting summaries are both complete and meaningful\n"
      ],
      "metadata": {
        "id": "BF1TMPmHo43d"
      }
    },
    {
      "cell_type": "markdown",
      "source": [
        "**21.Why is NumPy’s array slicing faster than Python’s list?**"
      ],
      "metadata": {
        "id": "nouxCalKo5nN"
      }
    },
    {
      "cell_type": "markdown",
      "source": [
        "- NumPy's array slicing is faster than Python's list slicing due to homogeneous data types, efficient memory layout, and optimized C implementations for operations.\n",
        "**Key Reasons for Performance Differences**\n",
        "**1.Homogeneous Data Types:**\n",
        "     **- NumPy** arrays require all elements to be of the same data type. This allows NumPy to store data more compactly and efficiently in memory. In contrast, Python lists can contain heterogeneous types, which results in additional overhead for type management and leads to slower access times\n",
        "\n",
        "**2.Contiguous Memory Allocation:**\n",
        "     - NumPy stores data in contiguous memory blocks, which improves the locality of reference. This allows for faster access to elements since CPU caches are optimized for sequential memory access. In contrast, Python lists store pointers to objects scattered across memory, leading to slower access times due to cache misses\n",
        "\n",
        "**3.Vectorization and C Implementations:**\n",
        "     - Many of NumPy's operations, including slicing, are implemented in C, which can execute at much higher speeds than Python's interpreted loops. NumPy can leverage vectorization, allowing it to perform operations on entire arrays simultaneously without the need for explicit loops, significantly boosting performance\n",
        "\n",
        "**4.Lower Overhead:**\n",
        "When operating NumPy arrays, there is less interpretation required by Python a compared to list operations, where each item may require checks and type dispatching. This lower overhead for NumPy results in faster execution times\n",
        "\n",
        "**5.Specialized Functions:**\n",
        "NumPy provides many built-in functions for mathematical and statistical operations that are optimized for performance. These functions take advantage of the underlying efficient memory layout and the array structure, which allows for operations to be performed quickly and easily on entire datasets without needing to write complex loop constructs manually\n"
      ],
      "metadata": {
        "id": "86k-NUCirxkM"
      }
    },
    {
      "cell_type": "markdown",
      "source": [
        "**22. slicing What are some common use cases for Seaborn?**"
      ],
      "metadata": {
        "id": "UpygbS2UrzOj"
      }
    },
    {
      "cell_type": "markdown",
      "source": [
        "- Seaborn is widely used in data science for tasks such as exploratory data analysis (EDA), statistical visualization, and enhancing the aesthetics of data plots.\n",
        "**1. Exploratory Data Analysis (EDA)**\n",
        "Seaborn excels in exploratory data analysis by providing various tools to quickly visualize and understand data distributions and relationships. Common plots include:\n",
        "  \n",
        "  **Histograms:** To visualize the distribution of a single variable.\n",
        "\n",
        "  **Scatter Plots:** To explore relationships between two continuous variables, allowing for the identification of trends and outliers.\n",
        "\n",
        "  **Pair Plots:** To generate scatter plot matrices that visually represent relationships among multiple variables, making it easy to identify correlations.\n",
        "\n",
        " ** 2. Statistical Analysis**\n",
        "Seaborn's functionalities are tailored for statistical data visualization. Common statistical plots include:\n",
        "Regression Plots: For understanding the relationship between variables and fitting regression lines.\n",
        "Box Plots and Violin Plots: For visualizing distributions of a continuous variable across different categories, which helps in comparing populations.\n",
        "Heatmaps: To visualize correlations between variables in a matrix format, enabling quick assessments of variable interdependencies.\n",
        "\n",
        "**3. Machine Learning**\n",
        "In machine learning, Seaborn is often employed to visualize model performance and data preprocessing steps. For example:\n",
        "\n",
        "- **Confusion Matrices:** To showcase the performance of classification models, detailing true vs. predicted classifications.\n",
        "**- Feature Importance:** To visualize how different features contribute to model predictions using bar plots.\n",
        "\n",
        "**4. Publication-Quality Graphics**\n",
        "Seaborn is particularly noted for its ability to produce visually appealing graphics suitable for reports and publications. It offers predefined themes and color palettes that enhance the aesthetic quality of plots without extensive customization.\n",
        "\n",
        "**5. Categorizing and Grouping Data**\n",
        "Seaborn simplifies the process of visualizing categorical data by providing functions tailored for handling categorical variables, such as:\n",
        "\n",
        "**Bar Plots:** For comparing the average value of a variable across different categories.\n",
        "\n",
        "**Count Plots:** To visualize the frequency of data points in each category.\n",
        "\n",
        "**Conclusion**\n",
        "Seaborn is an invaluable tool for data scientists and analysts, providing a high-level interface for creating informative and attractive statistical graphics. Its ease of use, combined with its extensive range of functionalities, makes it a preferred choice for various data visualization needs\n"
      ],
      "metadata": {
        "id": "TFSAFiVQrzwW"
      }
    },
    {
      "cell_type": "markdown",
      "source": [
        "## PRACTICAL"
      ],
      "metadata": {
        "id": "9QsQ6Ng7s-Hx"
      }
    },
    {
      "cell_type": "markdown",
      "source": [
        "1.How do you create a 2D NumPy array and calculate the sum of each row?       "
      ],
      "metadata": {
        "id": "xK4tsmOUtLh7"
      }
    },
    {
      "cell_type": "code",
      "source": [
        "import numpy as np\n",
        "\n",
        "# Create a 2D NumPy array\n",
        "array_2d = np.array([[1, 2, 3], [4, 5, 6], [7, 8, 9]])\n",
        "\n",
        "# Calculate the sum of each row\n",
        "row_sums = np.sum(array_2d, axis=1)\n",
        "\n",
        "print(\"2D Array:\")\n",
        "print(array_2d)\n",
        "print(\"Sum of each row:\")\n",
        "print(row_sums)"
      ],
      "metadata": {
        "colab": {
          "base_uri": "https://localhost:8080/"
        },
        "id": "MLHtveaIn8Xh",
        "outputId": "856a8fbc-8d1d-4b41-cd5b-cef17a181af2"
      },
      "execution_count": null,
      "outputs": [
        {
          "output_type": "stream",
          "name": "stdout",
          "text": [
            "2D Array:\n",
            "[[1 2 3]\n",
            " [4 5 6]\n",
            " [7 8 9]]\n",
            "Sum of each row:\n",
            "[ 6 15 24]\n"
          ]
        }
      ]
    },
    {
      "cell_type": "markdown",
      "source": [
        "2.Write a Pandas script to find the mean of a specific column in a DataFrame"
      ],
      "metadata": {
        "id": "9sEDvdVBS5he"
      }
    },
    {
      "cell_type": "code",
      "source": [
        "import pandas as pd\n",
        "\n",
        "# Example DataFrame\n",
        "data = {\n",
        "    'Name': ['Alice', 'Bob', 'Charlie'],\n",
        "    'Age': [25, 30, 35],\n",
        "    'Score': [85, 90, 95]\n",
        "}\n",
        "df = pd.DataFrame(data)\n",
        "\n",
        "# Calculate the mean of a specific column (e.g., 'Age')\n",
        "mean_age = df['Age'].mean()\n",
        "\n",
        "print(f\"The mean of the 'Age' column is: {mean_age}\")"
      ],
      "metadata": {
        "colab": {
          "base_uri": "https://localhost:8080/"
        },
        "id": "v2yY9cP4TVUC",
        "outputId": "1dbaa04c-ded7-4568-c2ad-04d90da0f3ee"
      },
      "execution_count": null,
      "outputs": [
        {
          "output_type": "stream",
          "name": "stdout",
          "text": [
            "The mean of the 'Age' column is: 30.0\n"
          ]
        }
      ]
    },
    {
      "cell_type": "markdown",
      "source": [
        "3.Create a scatter plot using Matplotlib."
      ],
      "metadata": {
        "id": "gb4akJFOTVx2"
      }
    },
    {
      "cell_type": "code",
      "source": [
        "import matplotlib.pyplot as plt\n",
        "\n",
        "# Sample data\n",
        "x = [1, 2, 3, 4, 5]\n",
        "y = [2, 4, 1, 8, 7]\n",
        "\n",
        "# Create scatter plot\n",
        "plt.scatter(x, y, color='blue', label='Data Points')\n",
        "\n",
        "# Add labels and title\n",
        "plt.xlabel('X-axis')\n",
        "plt.ylabel('Y-axis')\n",
        "plt.title('Simple Scatter Plot')\n",
        "\n",
        "# Add legend\n",
        "plt.legend()\n",
        "\n",
        "# Show the plot\n",
        "plt.show()"
      ],
      "metadata": {
        "colab": {
          "base_uri": "https://localhost:8080/",
          "height": 472
        },
        "id": "neWX9qPeT5fS",
        "outputId": "9bcfbccc-80cb-47d4-9bd9-3ac76307f6be"
      },
      "execution_count": null,
      "outputs": [
        {
          "output_type": "display_data",
          "data": {
            "text/plain": [
              "<Figure size 640x480 with 1 Axes>"
            ],
            "image/png": "[encoded data removed]"
          },
          "metadata": {}
        }
      ]
    },
    {
      "cell_type": "markdown",
      "source": [
        "**4.How do you calculate the correlation matrix using Seaborn and visualize it with a heatmap.**"
      ],
      "metadata": {
        "id": "nfk05vLCT6GY"
      }
    },
    {
      "cell_type": "markdown",
      "source": [
        "-To calculate a correlation matrix using Seaborn, first compute the correlation matrix with Pandas, and then visualize it using Seaborn's heatmap function.\n",
        "\n",
        "**Steps to Calculate and Visualize the Correlation Matrix**\n",
        "\n",
        "**1.Import Required Libraries:**\n",
        "     First, import the necessary libraries including Pandas and Seaborn.\n",
        "\n",
        "       import pandas as pd\n",
        "\n",
        "       import seaborn as sns\n",
        "\n",
        "       import matplotlib.pyplot as plt\n",
        "\n",
        "**2.Load or Create a Dataset:**\n",
        "\n",
        "You can load an existing dataset or create a sample dataset. Here's how to load the Iris dataset using Seaborn:\n",
        "\n",
        "df = sns.load_dataset('iris')\n",
        "\n",
        "**3.Calculate the Correlation Matrix:**\n",
        "\n",
        "Use the .corr() method from Pandas to calculate the correlation matrix for the numerical variables in your DataFrame.\n",
        "\n",
        "corr_matrix = df.corr()\n",
        "\n",
        "**4.Plot the Correlation Matrix using Seaborn:**\n",
        "\n",
        "Use Seaborn's heatmap() function to visualize the correlation matrix.\n",
        "\n",
        "plt.figure(figsize=(10, 8))\n",
        "\n",
        "sns.heatmap(corr_matrix, annot=True, cmap='coolwarm', center=0)\n",
        "\n",
        "plt.title('Correlation Matrix')\n",
        "\n",
        "plt.show()\n",
        "\n",
        "Explanation of Code:\n",
        "\n",
        "**- sns.load_dataset('iris'):** This line loads the Iris dataset, which contains measurements of iris flowers.\n",
        "\n",
        "**- df.corr():** This calculates the Pearson correlation coefficients between the numerical columns of the DataFrame and returns a new DataFrame representing the correlation matrix.\n",
        "\n",
        "**- sns.heatmap():** This function visualizes the correlation matrix as a heatmap. The annot=True argument displays the correlation coefficients on the heatmap cells, and cmap='coolwarm' defines the color palette to use.\n",
        "\n",
        "**- plt.show():** This command displays the plot."
      ],
      "metadata": {
        "id": "_EujW4d2qx9t"
      }
    },
    {
      "cell_type": "markdown",
      "source": [
        "**5.Generate a bar plot using Plotly.**"
      ],
      "metadata": {
        "id": "P9PZqBBpUN9v"
      }
    },
    {
      "cell_type": "code",
      "source": [
        "import plotly.graph_objects as go\n",
        "\n",
        "# Data for the bar plot\n",
        "categories = ['Category A', 'Category B', 'Category C', 'Category D']\n",
        "values = [10, 15, 7, 12]\n",
        "\n",
        "# Create the bar plot\n",
        "fig = go.Figure(data=[\n",
        "    go.Bar(x=categories, y=values, marker_color='skyblue', name='Values')\n",
        "])\n",
        "\n",
        "# Customize layout\n",
        "fig.update_layout(\n",
        "    title='Bar Plot Example',\n",
        "    xaxis_title='Categories',\n",
        "    yaxis_title='Values',\n",
        "    template='plotly_white'\n",
        ")\n",
        "\n",
        "# Show the plot\n",
        "fig.show()"
      ],
      "metadata": {
        "colab": {
          "base_uri": "https://localhost:8080/",
          "height": 542
        },
        "id": "7OGp1Wr_UpWe",
        "outputId": "88b8ad4a-00aa-43cf-e20d-88d4f8abdfe3"
      },
      "execution_count": null,
      "outputs": [
        {
          "output_type": "display_data",
          "data": {
            "text/html": [
              "<html>\n",
              "<head><meta charset=\"utf-8\" /></head>\n",
              "<body>\n",
              "    <div>            <script src=\"https://cdnjs.cloudflare.com/ajax/libs/mathjax/2.7.5/MathJax.js?config=TeX-AMS-MML_SVG\"></script><script type=\"text/javascript\">if (window.MathJax && window.MathJax.Hub && window.MathJax.Hub.Config) {window.MathJax.Hub.Config({SVG: {font: \"STIX-Web\"}});}</script>                <script type=\"text/javascript\">window.PlotlyConfig = {MathJaxConfig: 'local'};</script>\n",
              "        <script charset=\"utf-8\" src=\"https://cdn.plot.ly/plotly-2.35.2.min.js\"></script>                <div id=\"e80817f5-1366-45fd-8949-06fdcaf486fa\" class=\"plotly-graph-div\" style=\"height:525px; width:100%;\"></div>            <script type=\"text/javascript\">                                    window.PLOTLYENV=window.PLOTLYENV || {};                                    if (document.getElementById(\"e80817f5-1366-45fd-8949-06fdcaf486fa\")) {                    Plotly.newPlot(                        \"e80817f5-1366-45fd-8949-06fdcaf486fa\",                        [{\"marker\":{\"color\":\"skyblue\"},\"name\":\"Values\",\"x\":[\"Category A\",\"Category B\",\"Category C\",\"Category D\"],\"y\":[10,15,7,12],\"type\":\"bar\"}],                        {\"template\":{\"data\":{\"barpolar\":[{\"marker\":{\"line\":{\"color\":\"white\",\"width\":0.5},\"pattern\":{\"fillmode\":\"overlay\",\"size\":10,\"solidity\":0.2}},\"type\":\"barpolar\"}],\"bar\":[{\"error_x\":{\"color\":\"#2a3f5f\"},\"error_y\":{\"color\":\"#2a3f5f\"},\"marker\":{\"line\":{\"color\":\"white\",\"width\":0.5},\"pattern\":{\"fillmode\":\"overlay\",\"size\":10,\"solidity\":0.2}},\"type\":\"bar\"}],\"carpet\":[{\"aaxis\":{\"endlinecolor\":\"#2a3f5f\",\"gridcolor\":\"#C8D4E3\",\"linecolor\":\"#C8D4E3\",\"minorgridcolor\":\"#C8D4E3\",\"startlinecolor\":\"#2a3f5f\"},\"baxis\":{\"endlinecolor\":\"#2a3f5f\",\"gridcolor\":\"#C8D4E3\",\"linecolor\":\"#C8D4E3\",\"minorgridcolor\":\"#C8D4E3\",\"startlinecolor\":\"#2a3f5f\"},\"type\":\"carpet\"}],\"choropleth\":[{\"colorbar\":{\"outlinewidth\":0,\"ticks\":\"\"},\"type\":\"choropleth\"}],\"contourcarpet\":[{\"colorbar\":{\"outlinewidth\":0,\"ticks\":\"\"},\"type\":\"contourcarpet\"}],\"contour\":[{\"colorbar\":{\"outlinewidth\":0,\"ticks\":\"\"},\"colorscale\":[[0.0,\"#0d0887\"],[0.1111111111111111,\"#46039f\"],[0.2222222222222222,\"#7201a8\"],[0.3333333333333333,\"#9c179e\"],[0.4444444444444444,\"#bd3786\"],[0.5555555555555556,\"#d8576b\"],[0.6666666666666666,\"#ed7953\"],[0.7777777777777778,\"#fb9f3a\"],[0.8888888888888888,\"#fdca26\"],[1.0,\"#f0f921\"]],\"type\":\"contour\"}],\"heatmapgl\":[{\"colorbar\":{\"outlinewidth\":0,\"ticks\":\"\"},\"colorscale\":[[0.0,\"#0d0887\"],[0.1111111111111111,\"#46039f\"],[0.2222222222222222,\"#7201a8\"],[0.3333333333333333,\"#9c179e\"],[0.4444444444444444,\"#bd3786\"],[0.5555555555555556,\"#d8576b\"],[0.6666666666666666,\"#ed7953\"],[0.7777777777777778,\"#fb9f3a\"],[0.8888888888888888,\"#fdca26\"],[1.0,\"#f0f921\"]],\"type\":\"heatmapgl\"}],\"heatmap\":[{\"colorbar\":{\"outlinewidth\":0,\"ticks\":\"\"},\"colorscale\":[[0.0,\"#0d0887\"],[0.1111111111111111,\"#46039f\"],[0.2222222222222222,\"#7201a8\"],[0.3333333333333333,\"#9c179e\"],[0.4444444444444444,\"#bd3786\"],[0.5555555555555556,\"#d8576b\"],[0.6666666666666666,\"#ed7953\"],[0.7777777777777778,\"#fb9f3a\"],[0.8888888888888888,\"#fdca26\"],[1.0,\"#f0f921\"]],\"type\":\"heatmap\"}],\"histogram2dcontour\":[{\"colorbar\":{\"outlinewidth\":0,\"ticks\":\"\"},\"colorscale\":[[0.0,\"#0d0887\"],[0.1111111111111111,\"#46039f\"],[0.2222222222222222,\"#7201a8\"],[0.3333333333333333,\"#9c179e\"],[0.4444444444444444,\"#bd3786\"],[0.5555555555555556,\"#d8576b\"],[0.6666666666666666,\"#ed7953\"],[0.7777777777777778,\"#fb9f3a\"],[0.8888888888888888,\"#fdca26\"],[1.0,\"#f0f921\"]],\"type\":\"histogram2dcontour\"}],\"histogram2d\":[{\"colorbar\":{\"outlinewidth\":0,\"ticks\":\"\"},\"colorscale\":[[0.0,\"#0d0887\"],[0.1111111111111111,\"#46039f\"],[0.2222222222222222,\"#7201a8\"],[0.3333333333333333,\"#9c179e\"],[0.4444444444444444,\"#bd3786\"],[0.5555555555555556,\"#d8576b\"],[0.6666666666666666,\"#ed7953\"],[0.7777777777777778,\"#fb9f3a\"],[0.8888888888888888,\"#fdca26\"],[1.0,\"#f0f921\"]],\"type\":\"histogram2d\"}],\"histogram\":[{\"marker\":{\"pattern\":{\"fillmode\":\"overlay\",\"size\":10,\"solidity\":0.2}},\"type\":\"histogram\"}],\"mesh3d\":[{\"colorbar\":{\"outlinewidth\":0,\"ticks\":\"\"},\"type\":\"mesh3d\"}],\"parcoords\":[{\"line\":{\"colorbar\":{\"outlinewidth\":0,\"ticks\":\"\"}},\"type\":\"parcoords\"}],\"pie\":[{\"automargin\":true,\"type\":\"pie\"}],\"scatter3d\":[{\"line\":{\"colorbar\":{\"outlinewidth\":0,\"ticks\":\"\"}},\"marker\":{\"colorbar\":{\"outlinewidth\":0,\"ticks\":\"\"}},\"type\":\"scatter3d\"}],\"scattercarpet\":[{\"marker\":{\"colorbar\":{\"outlinewidth\":0,\"ticks\":\"\"}},\"type\":\"scattercarpet\"}],\"scattergeo\":[{\"marker\":{\"colorbar\":{\"outlinewidth\":0,\"ticks\":\"\"}},\"type\":\"scattergeo\"}],\"scattergl\":[{\"marker\":{\"colorbar\":{\"outlinewidth\":0,\"ticks\":\"\"}},\"type\":\"scattergl\"}],\"scattermapbox\":[{\"marker\":{\"colorbar\":{\"outlinewidth\":0,\"ticks\":\"\"}},\"type\":\"scattermapbox\"}],\"scatterpolargl\":[{\"marker\":{\"colorbar\":{\"outlinewidth\":0,\"ticks\":\"\"}},\"type\":\"scatterpolargl\"}],\"scatterpolar\":[{\"marker\":{\"colorbar\":{\"outlinewidth\":0,\"ticks\":\"\"}},\"type\":\"scatterpolar\"}],\"scatter\":[{\"fillpattern\":{\"fillmode\":\"overlay\",\"size\":10,\"solidity\":0.2},\"type\":\"scatter\"}],\"scatterternary\":[{\"marker\":{\"colorbar\":{\"outlinewidth\":0,\"ticks\":\"\"}},\"type\":\"scatterternary\"}],\"surface\":[{\"colorbar\":{\"outlinewidth\":0,\"ticks\":\"\"},\"colorscale\":[[0.0,\"#0d0887\"],[0.1111111111111111,\"#46039f\"],[0.2222222222222222,\"#7201a8\"],[0.3333333333333333,\"#9c179e\"],[0.4444444444444444,\"#bd3786\"],[0.5555555555555556,\"#d8576b\"],[0.6666666666666666,\"#ed7953\"],[0.7777777777777778,\"#fb9f3a\"],[0.8888888888888888,\"#fdca26\"],[1.0,\"#f0f921\"]],\"type\":\"surface\"}],\"table\":[{\"cells\":{\"fill\":{\"color\":\"#EBF0F8\"},\"line\":{\"color\":\"white\"}},\"header\":{\"fill\":{\"color\":\"#C8D4E3\"},\"line\":{\"color\":\"white\"}},\"type\":\"table\"}]},\"layout\":{\"annotationdefaults\":{\"arrowcolor\":\"#2a3f5f\",\"arrowhead\":0,\"arrowwidth\":1},\"autotypenumbers\":\"strict\",\"coloraxis\":{\"colorbar\":{\"outlinewidth\":0,\"ticks\":\"\"}},\"colorscale\":{\"diverging\":[[0,\"#8e0152\"],[0.1,\"#c51b7d\"],[0.2,\"#de77ae\"],[0.3,\"#f1b6da\"],[0.4,\"#fde0ef\"],[0.5,\"#f7f7f7\"],[0.6,\"#e6f5d0\"],[0.7,\"#b8e186\"],[0.8,\"#7fbc41\"],[0.9,\"#4d9221\"],[1,\"#276419\"]],\"sequential\":[[0.0,\"#0d0887\"],[0.1111111111111111,\"#46039f\"],[0.2222222222222222,\"#7201a8\"],[0.3333333333333333,\"#9c179e\"],[0.4444444444444444,\"#bd3786\"],[0.5555555555555556,\"#d8576b\"],[0.6666666666666666,\"#ed7953\"],[0.7777777777777778,\"#fb9f3a\"],[0.8888888888888888,\"#fdca26\"],[1.0,\"#f0f921\"]],\"sequentialminus\":[[0.0,\"#0d0887\"],[0.1111111111111111,\"#46039f\"],[0.2222222222222222,\"#7201a8\"],[0.3333333333333333,\"#9c179e\"],[0.4444444444444444,\"#bd3786\"],[0.5555555555555556,\"#d8576b\"],[0.6666666666666666,\"#ed7953\"],[0.7777777777777778,\"#fb9f3a\"],[0.8888888888888888,\"#fdca26\"],[1.0,\"#f0f921\"]]},\"colorway\":[\"#636efa\",\"#EF553B\",\"#00cc96\",\"#ab63fa\",\"#FFA15A\",\"#19d3f3\",\"#FF6692\",\"#B6E880\",\"#FF97FF\",\"#FECB52\"],\"font\":{\"color\":\"#2a3f5f\"},\"geo\":{\"bgcolor\":\"white\",\"lakecolor\":\"white\",\"landcolor\":\"white\",\"showlakes\":true,\"showland\":true,\"subunitcolor\":\"#C8D4E3\"},\"hoverlabel\":{\"align\":\"left\"},\"hovermode\":\"closest\",\"mapbox\":{\"style\":\"light\"},\"paper_bgcolor\":\"white\",\"plot_bgcolor\":\"white\",\"polar\":{\"angularaxis\":{\"gridcolor\":\"#EBF0F8\",\"linecolor\":\"#EBF0F8\",\"ticks\":\"\"},\"bgcolor\":\"white\",\"radialaxis\":{\"gridcolor\":\"#EBF0F8\",\"linecolor\":\"#EBF0F8\",\"ticks\":\"\"}},\"scene\":{\"xaxis\":{\"backgroundcolor\":\"white\",\"gridcolor\":\"#DFE8F3\",\"gridwidth\":2,\"linecolor\":\"#EBF0F8\",\"showbackground\":true,\"ticks\":\"\",\"zerolinecolor\":\"#EBF0F8\"},\"yaxis\":{\"backgroundcolor\":\"white\",\"gridcolor\":\"#DFE8F3\",\"gridwidth\":2,\"linecolor\":\"#EBF0F8\",\"showbackground\":true,\"ticks\":\"\",\"zerolinecolor\":\"#EBF0F8\"},\"zaxis\":{\"backgroundcolor\":\"white\",\"gridcolor\":\"#DFE8F3\",\"gridwidth\":2,\"linecolor\":\"#EBF0F8\",\"showbackground\":true,\"ticks\":\"\",\"zerolinecolor\":\"#EBF0F8\"}},\"shapedefaults\":{\"line\":{\"color\":\"#2a3f5f\"}},\"ternary\":{\"aaxis\":{\"gridcolor\":\"#DFE8F3\",\"linecolor\":\"#A2B1C6\",\"ticks\":\"\"},\"baxis\":{\"gridcolor\":\"#DFE8F3\",\"linecolor\":\"#A2B1C6\",\"ticks\":\"\"},\"bgcolor\":\"white\",\"caxis\":{\"gridcolor\":\"#DFE8F3\",\"linecolor\":\"#A2B1C6\",\"ticks\":\"\"}},\"title\":{\"x\":0.05},\"xaxis\":{\"automargin\":true,\"gridcolor\":\"#EBF0F8\",\"linecolor\":\"#EBF0F8\",\"ticks\":\"\",\"title\":{\"standoff\":15},\"zerolinecolor\":\"#EBF0F8\",\"zerolinewidth\":2},\"yaxis\":{\"automargin\":true,\"gridcolor\":\"#EBF0F8\",\"linecolor\":\"#EBF0F8\",\"ticks\":\"\",\"title\":{\"standoff\":15},\"zerolinecolor\":\"#EBF0F8\",\"zerolinewidth\":2}}},\"title\":{\"text\":\"Bar Plot Example\"},\"xaxis\":{\"title\":{\"text\":\"Categories\"}},\"yaxis\":{\"title\":{\"text\":\"Values\"}}},                        {\"responsive\": true}                    ).then(function(){\n",
              "                            \n",
              "var gd = document.getElementById('e80817f5-1366-45fd-8949-06fdcaf486fa');\n",
              "var x = new MutationObserver(function (mutations, observer) {{\n",
              "        var display = window.getComputedStyle(gd).display;\n",
              "        if (!display || display === 'none') {{\n",
              "            console.log([gd, 'removed!']);\n",
              "            Plotly.purge(gd);\n",
              "            observer.disconnect();\n",
              "        }}\n",
              "}});\n",
              "\n",
              "// Listen for the removal of the full notebook cells\n",
              "var notebookContainer = gd.closest('#notebook-container');\n",
              "if (notebookContainer) {{\n",
              "    x.observe(notebookContainer, {childList: true});\n",
              "}}\n",
              "\n",
              "// Listen for the clearing of the current output cell\n",
              "var outputEl = gd.closest('.output');\n",
              "if (outputEl) {{\n",
              "    x.observe(outputEl, {childList: true});\n",
              "}}\n",
              "\n",
              "                        })                };                            </script>        </div>\n",
              "</body>\n",
              "</html>"
            ]
          },
          "metadata": {}
        }
      ]
    },
    {
      "cell_type": "markdown",
      "source": [
        "**6.Create a DataFrame and add a new column based on an existing column.**"
      ],
      "metadata": {
        "id": "3qatBVmKUp7t"
      }
    },
    {
      "cell_type": "code",
      "source": [
        "import pandas as pd\n",
        "\n",
        "# Creating the DataFrame\n",
        "df = pd.DataFrame({\n",
        "'Date': ['10/2/2011', '11/2/2011', '12/2/2011', '13/2/2011'],\n",
        "'Event': ['Music', 'Poetry', 'Theatre', 'Comedy'],\n",
        "'Cost': [10000, 5000, 15000, 2000]\n",
        "})\n",
        "\n",
        "# Create a new column 'Discounted_Price' after applying 10% discount on the existing 'Cost' column\n",
        "df['Discounted_Price'] = df['Cost'] - (0.1 * df['Cost'])\n",
        "\n",
        "print(df)"
      ],
      "metadata": {
        "colab": {
          "base_uri": "https://localhost:8080/"
        },
        "id": "w3MPuv6RU0JK",
        "outputId": "ed099fd6-35ad-4953-b0ae-6e4868238fc7"
      },
      "execution_count": null,
      "outputs": [
        {
          "output_type": "stream",
          "name": "stdout",
          "text": [
            "        Date    Event   Cost  Discounted_Price\n",
            "0  10/2/2011    Music  10000            9000.0\n",
            "1  11/2/2011   Poetry   5000            4500.0\n",
            "2  12/2/2011  Theatre  15000           13500.0\n",
            "3  13/2/2011   Comedy   2000            1800.0\n"
          ]
        }
      ]
    },
    {
      "cell_type": "markdown",
      "source": [
        "**7.Write a program to perform element-wise multiplication of two NumPy arrays.**"
      ],
      "metadata": {
        "id": "AfXCx-YOU0yd"
      }
    },
    {
      "cell_type": "code",
      "source": [
        "import numpy as np\n",
        "\n",
        "# Define two NumPy arrays\n",
        "array1 = np.array([1, 2, 3, 4])\n",
        "array2 = np.array([5, 6, 7, 8])\n",
        "\n",
        "# Perform element-wise multiplication\n",
        "result = np.multiply(array1, array2)\n",
        "\n",
        "# Print the result\n",
        "print(\"Array 1:\", array1)\n",
        "print(\"Array 2:\", array2)\n",
        "print(\"Element-wise multiplication result:\", result)"
      ],
      "metadata": {
        "colab": {
          "base_uri": "https://localhost:8080/"
        },
        "id": "OgBFtUQExniC",
        "outputId": "59b48702-00e2-46e1-d588-4adabb084469"
      },
      "execution_count": null,
      "outputs": [
        {
          "output_type": "stream",
          "name": "stdout",
          "text": [
            "Array 1: [1 2 3 4]\n",
            "Array 2: [5 6 7 8]\n",
            "Element-wise multiplication result: [ 5 12 21 32]\n"
          ]
        }
      ]
    },
    {
      "cell_type": "markdown",
      "source": [
        "****8.Create a line plot with multiple lines using Matplotlib."
      ],
      "metadata": {
        "id": "tBPqmZTZVCTC"
      }
    },
    {
      "cell_type": "code",
      "source": [
        "import matplotlib.pyplot as plt\n",
        "\n",
        "# Data for the plot\n",
        "x = [1, 2, 3, 4, 5]\n",
        "y1 = [2, 4, 6, 8, 10]\n",
        "y2 = [1, 3, 5, 7, 9]\n",
        "y3 = [2, 3, 5, 7, 11]\n",
        "\n",
        "# Create the plot\n",
        "plt.figure(figsize=(8, 5))  # Optional: Set the figure size\n",
        "plt.plot(x, y1, label='Line 1', color='blue', linestyle='-', marker='o')\n",
        "plt.plot(x, y2, label='Line 2', color='green', linestyle='--', marker='s')\n",
        "plt.plot(x, y3, label='Line 3', color='red', linestyle='-.', marker='^')\n",
        "\n",
        "# Add labels, title, and legend\n",
        "plt.xlabel('X-axis')\n",
        "plt.ylabel('Y-axis')\n",
        "plt.title('Line Plot with Multiple Lines')\n",
        "plt.legend()\n",
        "\n",
        "# Show the plot\n",
        "plt.grid(True)  # Optional: Add gridlines\n",
        "plt.show()"
      ],
      "metadata": {
        "colab": {
          "base_uri": "https://localhost:8080/",
          "height": 487
        },
        "id": "g5J8fBvLVM6R",
        "outputId": "dde0b1ec-42e8-4dd5-acb9-9235c12e55c8"
      },
      "execution_count": null,
      "outputs": [
        {
          "output_type": "display_data",
          "data": {
            "text/plain": [
              "<Figure size 800x500 with 1 Axes>"
            ],
            "image/png": "[encoded data removed]"
          },
          "metadata": {}
        }
      ]
    },
    {
      "cell_type": "markdown",
      "source": [
        "**9.Generate a Pandas DataFrame and filter rows where a column value is greater than a threshold.**"
      ],
      "metadata": {
        "id": "LPgCTpkqVNRC"
      }
    },
    {
      "cell_type": "code",
      "source": [
        "import pandas as pd\n",
        "\n",
        "# Generate a DataFrame\n",
        "data = {\n",
        "    'Name': ['Alice', 'Bob', 'Charlie', 'David'],\n",
        "    'Score': [85, 72, 90, 66]\n",
        "}\n",
        "df = pd.DataFrame(data)\n",
        "\n",
        "# Define a threshold\n",
        "threshold = 80\n",
        "\n",
        "# Filter rows where 'Score' is greater than the threshold\n",
        "filtered_df = df[df['Score'] > threshold]\n",
        "\n",
        "print(\"Original DataFrame:\")\n",
        "print(df)\n",
        "print(\"\\nFiltered DataFrame:\")\n",
        "print(filtered_df)"
      ],
      "metadata": {
        "colab": {
          "base_uri": "https://localhost:8080/"
        },
        "id": "se5wIfxUVXVu",
        "outputId": "7b854151-cda8-4afa-dfff-49e3757e8c23"
      },
      "execution_count": null,
      "outputs": [
        {
          "output_type": "stream",
          "name": "stdout",
          "text": [
            "Original DataFrame:\n",
            "      Name  Score\n",
            "0    Alice     85\n",
            "1      Bob     72\n",
            "2  Charlie     90\n",
            "3    David     66\n",
            "\n",
            "Filtered DataFrame:\n",
            "      Name  Score\n",
            "0    Alice     85\n",
            "2  Charlie     90\n"
          ]
        }
      ]
    },
    {
      "cell_type": "markdown",
      "source": [
        "**10.Create a histogram using seaborn to visualize a distribution.**"
      ],
      "metadata": {
        "id": "Sj2IT_hEVXvq"
      }
    },
    {
      "cell_type": "code",
      "source": [
        "import seaborn as sns\n",
        "import matplotlib.pyplot as plt\n",
        "\n",
        "# Example data\n",
        "data = [1, 2, 2, 3, 3, 3, 4, 4, 4, 4, 5, 5, 5, 6, 6, 7, 8, 9, 10]\n",
        "\n",
        "# Create a histogram\n",
        "sns.histplot(data, bins=10, kde=True)\n",
        "\n",
        "# Add labels and title\n",
        "plt.xlabel('Value')\n",
        "plt.ylabel('Frequency')\n",
        "plt.title('Histogram of Data Distribution')\n",
        "\n",
        "# Display the plot\n",
        "plt.show()"
      ],
      "metadata": {
        "colab": {
          "base_uri": "https://localhost:8080/",
          "height": 472
        },
        "id": "sh6Ba04yWALq",
        "outputId": "f24dcedc-36e1-4243-fafd-f24b3a3f27cc"
      },
      "execution_count": null,
      "outputs": [
        {
          "output_type": "display_data",
          "data": {
            "text/plain": [
              "<Figure size 640x480 with 1 Axes>"
            ],
            "image/png": "[encoded data removed]"
          },
          "metadata": {}
        }
      ]
    },
    {
      "cell_type": "markdown",
      "source": [
        "**11.Perform matrix multiplication using NumPy.**"
      ],
      "metadata": {
        "id": "uh0lW53gWAnE"
      }
    },
    {
      "cell_type": "code",
      "source": [
        "import numpy as np\n",
        "\n",
        "# Define two matrices\n",
        "matrix_a = np.array([[1, 2], [3, 4]])\n",
        "matrix_b = np.array([[5, 6], [7, 8]])\n",
        "\n",
        "# Perform matrix multiplication\n",
        "result = np.dot(matrix_a, matrix_b)\n",
        "\n",
        "print(\"Result of matrix multiplication:\")\n",
        "print(result)"
      ],
      "metadata": {
        "colab": {
          "base_uri": "https://localhost:8080/"
        },
        "id": "uI4k_eVeWLG8",
        "outputId": "cc86e5f7-a1ba-43a9-c13d-828fdf77ba9b"
      },
      "execution_count": null,
      "outputs": [
        {
          "output_type": "stream",
          "name": "stdout",
          "text": [
            "Result of matrix multiplication:\n",
            "[[19 22]\n",
            " [43 50]]\n"
          ]
        }
      ]
    },
    {
      "cell_type": "markdown",
      "source": [
        "12.Use Pandas to load a CSV file and display its first 5 rows ."
      ],
      "metadata": {
        "id": "pnO0GVyxWLh_"
      }
    },
    {
      "cell_type": "code",
      "source": [
        "import pandas as pd\n",
        "\n",
        "# Load the CSV file\n",
        "data = pd.read_csv('your_file.csv')\n",
        "\n",
        "# Display the first 5 rows\n",
        "print(data.head())"
      ],
      "metadata": {
        "colab": {
          "base_uri": "https://localhost:8080/",
          "height": 373
        },
        "id": "jGZZlxGb3aaI",
        "outputId": "c82d8719-d577-450a-f4ac-e7ca18be4e6a"
      },
      "execution_count": null,
      "outputs": [
        {
          "output_type": "error",
          "ename": "FileNotFoundError",
          "evalue": "[Errno 2] No such file or directory: 'your_file.csv'",
          "traceback": [
            "\u001b[0;31m---------------------------------------------------------------------------\u001b[0m",
            "\u001b[0;31mFileNotFoundError\u001b[0m                         Traceback (most recent call last)",
            "\u001b[0;32m<ipython-input-18-3d13afb97bb0>\u001b[0m in \u001b[0;36m<cell line: 0>\u001b[0;34m()\u001b[0m\n\u001b[1;32m      2\u001b[0m \u001b[0;34m\u001b[0m\u001b[0m\n\u001b[1;32m      3\u001b[0m \u001b[0;31m# Load the CSV file\u001b[0m\u001b[0;34m\u001b[0m\u001b[0;34m\u001b[0m\u001b[0m\n\u001b[0;32m----> 4\u001b[0;31m \u001b[0mdata\u001b[0m \u001b[0;34m=\u001b[0m \u001b[0mpd\u001b[0m\u001b[0;34m.\u001b[0m\u001b[0mread_csv\u001b[0m\u001b[0;34m(\u001b[0m\u001b[0;34m'your_file.csv'\u001b[0m\u001b[0;34m)\u001b[0m\u001b[0;34m\u001b[0m\u001b[0;34m\u001b[0m\u001b[0m\n\u001b[0m\u001b[1;32m      5\u001b[0m \u001b[0;34m\u001b[0m\u001b[0m\n\u001b[1;32m      6\u001b[0m \u001b[0;31m# Display the first 5 rows\u001b[0m\u001b[0;34m\u001b[0m\u001b[0;34m\u001b[0m\u001b[0m\n",
            "\u001b[0;32m/usr/local/lib/python3.11/dist-packages/pandas/io/parsers/readers.py\u001b[0m in \u001b[0;36mread_csv\u001b[0;34m(filepath_or_buffer, sep, delimiter, header, names, index_col, usecols, dtype, engine, converters, true_values, false_values, skipinitialspace, skiprows, skipfooter, nrows, na_values, keep_default_na, na_filter, verbose, skip_blank_lines, parse_dates, infer_datetime_format, keep_date_col, date_parser, date_format, dayfirst, cache_dates, iterator, chunksize, compression, thousands, decimal, lineterminator, quotechar, quoting, doublequote, escapechar, comment, encoding, encoding_errors, dialect, on_bad_lines, delim_whitespace, low_memory, memory_map, float_precision, storage_options, dtype_backend)\u001b[0m\n\u001b[1;32m   1024\u001b[0m     \u001b[0mkwds\u001b[0m\u001b[0;34m.\u001b[0m\u001b[0mupdate\u001b[0m\u001b[0;34m(\u001b[0m\u001b[0mkwds_defaults\u001b[0m\u001b[0;34m)\u001b[0m\u001b[0;34m\u001b[0m\u001b[0;34m\u001b[0m\u001b[0m\n\u001b[1;32m   1025\u001b[0m \u001b[0;34m\u001b[0m\u001b[0m\n\u001b[0;32m-> 1026\u001b[0;31m     \u001b[0;32mreturn\u001b[0m \u001b[0m_read\u001b[0m\u001b[0;34m(\u001b[0m\u001b[0mfilepath_or_buffer\u001b[0m\u001b[0;34m,\u001b[0m \u001b[0mkwds\u001b[0m\u001b[0;34m)\u001b[0m\u001b[0;34m\u001b[0m\u001b[0;34m\u001b[0m\u001b[0m\n\u001b[0m\u001b[1;32m   1027\u001b[0m \u001b[0;34m\u001b[0m\u001b[0m\n\u001b[1;32m   1028\u001b[0m \u001b[0;34m\u001b[0m\u001b[0m\n",
            "\u001b[0;32m/usr/local/lib/python3.11/dist-packages/pandas/io/parsers/readers.py\u001b[0m in \u001b[0;36m_read\u001b[0;34m(filepath_or_buffer, kwds)\u001b[0m\n\u001b[1;32m    618\u001b[0m \u001b[0;34m\u001b[0m\u001b[0m\n\u001b[1;32m    619\u001b[0m     \u001b[0;31m# Create the parser.\u001b[0m\u001b[0;34m\u001b[0m\u001b[0;34m\u001b[0m\u001b[0m\n\u001b[0;32m--> 620\u001b[0;31m     \u001b[0mparser\u001b[0m \u001b[0;34m=\u001b[0m \u001b[0mTextFileReader\u001b[0m\u001b[0;34m(\u001b[0m\u001b[0mfilepath_or_buffer\u001b[0m\u001b[0;34m,\u001b[0m \u001b[0;34m**\u001b[0m\u001b[0mkwds\u001b[0m\u001b[0;34m)\u001b[0m\u001b[0;34m\u001b[0m\u001b[0;34m\u001b[0m\u001b[0m\n\u001b[0m\u001b[1;32m    621\u001b[0m \u001b[0;34m\u001b[0m\u001b[0m\n\u001b[1;32m    622\u001b[0m     \u001b[0;32mif\u001b[0m \u001b[0mchunksize\u001b[0m \u001b[0;32mor\u001b[0m \u001b[0miterator\u001b[0m\u001b[0;34m:\u001b[0m\u001b[0;34m\u001b[0m\u001b[0;34m\u001b[0m\u001b[0m\n",
            "\u001b[0;32m/usr/local/lib/python3.11/dist-packages/pandas/io/parsers/readers.py\u001b[0m in \u001b[0;36m__init__\u001b[0;34m(self, f, engine, **kwds)\u001b[0m\n\u001b[1;32m   1618\u001b[0m \u001b[0;34m\u001b[0m\u001b[0m\n\u001b[1;32m   1619\u001b[0m         \u001b[0mself\u001b[0m\u001b[0;34m.\u001b[0m\u001b[0mhandles\u001b[0m\u001b[0;34m:\u001b[0m \u001b[0mIOHandles\u001b[0m \u001b[0;34m|\u001b[0m \u001b[0;32mNone\u001b[0m \u001b[0;34m=\u001b[0m \u001b[0;32mNone\u001b[0m\u001b[0;34m\u001b[0m\u001b[0;34m\u001b[0m\u001b[0m\n\u001b[0;32m-> 1620\u001b[0;31m         \u001b[0mself\u001b[0m\u001b[0;34m.\u001b[0m\u001b[0m_engine\u001b[0m \u001b[0;34m=\u001b[0m \u001b[0mself\u001b[0m\u001b[0;34m.\u001b[0m\u001b[0m_make_engine\u001b[0m\u001b[0;34m(\u001b[0m\u001b[0mf\u001b[0m\u001b[0;34m,\u001b[0m \u001b[0mself\u001b[0m\u001b[0;34m.\u001b[0m\u001b[0mengine\u001b[0m\u001b[0;34m)\u001b[0m\u001b[0;34m\u001b[0m\u001b[0;34m\u001b[0m\u001b[0m\n\u001b[0m\u001b[1;32m   1621\u001b[0m \u001b[0;34m\u001b[0m\u001b[0m\n\u001b[1;32m   1622\u001b[0m     \u001b[0;32mdef\u001b[0m \u001b[0mclose\u001b[0m\u001b[0;34m(\u001b[0m\u001b[0mself\u001b[0m\u001b[0;34m)\u001b[0m \u001b[0;34m->\u001b[0m \u001b[0;32mNone\u001b[0m\u001b[0;34m:\u001b[0m\u001b[0;34m\u001b[0m\u001b[0;34m\u001b[0m\u001b[0m\n",
            "\u001b[0;32m/usr/local/lib/python3.11/dist-packages/pandas/io/parsers/readers.py\u001b[0m in \u001b[0;36m_make_engine\u001b[0;34m(self, f, engine)\u001b[0m\n\u001b[1;32m   1878\u001b[0m                 \u001b[0;32mif\u001b[0m \u001b[0;34m\"b\"\u001b[0m \u001b[0;32mnot\u001b[0m \u001b[0;32min\u001b[0m \u001b[0mmode\u001b[0m\u001b[0;34m:\u001b[0m\u001b[0;34m\u001b[0m\u001b[0;34m\u001b[0m\u001b[0m\n\u001b[1;32m   1879\u001b[0m                     \u001b[0mmode\u001b[0m \u001b[0;34m+=\u001b[0m \u001b[0;34m\"b\"\u001b[0m\u001b[0;34m\u001b[0m\u001b[0;34m\u001b[0m\u001b[0m\n\u001b[0;32m-> 1880\u001b[0;31m             self.handles = get_handle(\n\u001b[0m\u001b[1;32m   1881\u001b[0m                 \u001b[0mf\u001b[0m\u001b[0;34m,\u001b[0m\u001b[0;34m\u001b[0m\u001b[0;34m\u001b[0m\u001b[0m\n\u001b[1;32m   1882\u001b[0m                 \u001b[0mmode\u001b[0m\u001b[0;34m,\u001b[0m\u001b[0;34m\u001b[0m\u001b[0;34m\u001b[0m\u001b[0m\n",
            "\u001b[0;32m/usr/local/lib/python3.11/dist-packages/pandas/io/common.py\u001b[0m in \u001b[0;36mget_handle\u001b[0;34m(path_or_buf, mode, encoding, compression, memory_map, is_text, errors, storage_options)\u001b[0m\n\u001b[1;32m    871\u001b[0m         \u001b[0;32mif\u001b[0m \u001b[0mioargs\u001b[0m\u001b[0;34m.\u001b[0m\u001b[0mencoding\u001b[0m \u001b[0;32mand\u001b[0m \u001b[0;34m\"b\"\u001b[0m \u001b[0;32mnot\u001b[0m \u001b[0;32min\u001b[0m \u001b[0mioargs\u001b[0m\u001b[0;34m.\u001b[0m\u001b[0mmode\u001b[0m\u001b[0;34m:\u001b[0m\u001b[0;34m\u001b[0m\u001b[0;34m\u001b[0m\u001b[0m\n\u001b[1;32m    872\u001b[0m             \u001b[0;31m# Encoding\u001b[0m\u001b[0;34m\u001b[0m\u001b[0;34m\u001b[0m\u001b[0m\n\u001b[0;32m--> 873\u001b[0;31m             handle = open(\n\u001b[0m\u001b[1;32m    874\u001b[0m                 \u001b[0mhandle\u001b[0m\u001b[0;34m,\u001b[0m\u001b[0;34m\u001b[0m\u001b[0;34m\u001b[0m\u001b[0m\n\u001b[1;32m    875\u001b[0m                 \u001b[0mioargs\u001b[0m\u001b[0;34m.\u001b[0m\u001b[0mmode\u001b[0m\u001b[0;34m,\u001b[0m\u001b[0;34m\u001b[0m\u001b[0;34m\u001b[0m\u001b[0m\n",
            "\u001b[0;31mFileNotFoundError\u001b[0m: [Errno 2] No such file or directory: 'your_file.csv'"
          ]
        }
      ]
    },
    {
      "cell_type": "markdown",
      "source": [
        "**13.Create a 3D scatter plot using Plotly.**"
      ],
      "metadata": {
        "id": "VaR2moVCWXOd"
      }
    },
    {
      "cell_type": "code",
      "source": [
        "import plotly.graph_objects as go\n",
        "import numpy as np\n",
        "\n",
        "# Generate random data for the scatter plot\n",
        "np.random.seed(42)\n",
        "x = np.random.rand(50) * 10  # X-axis values\n",
        "y = np.random.rand(50) * 10  # Y-axis values\n",
        "z = np.random.rand(50) * 10  # Z-axis values\n",
        "\n",
        "# Create the 3D scatter plot\n",
        "fig = go.Figure(data=[go.Scatter3d(\n",
        "    x=x,\n",
        "    y=y,\n",
        "    z=z,\n",
        "    mode='markers',\n",
        "    marker=dict(\n",
        "        size=5,\n",
        "        color=z,  # Color by Z values\n",
        "        colorscale='Viridis',  # Color scale\n",
        "        opacity=0.8\n",
        "    )\n",
        ")])\n",
        "\n",
        "# Add titles and labels\n",
        "fig.update_layout(\n",
        "    title=\"3D Scatter Plot Example\",\n",
        "    scene=dict(\n",
        "        xaxis_title=\"X Axis\",\n",
        "        yaxis_title=\"Y Axis\",\n",
        "        zaxis_title=\"Z Axis\"\n",
        "    )\n",
        ")\n",
        "\n",
        "# Show the plot\n",
        "fig.show()"
      ],
      "metadata": {
        "colab": {
          "base_uri": "https://localhost:8080/",
          "height": 542
        },
        "id": "EZ1Q2YzjWjMC",
        "outputId": "d8aba2c0-98c4-4137-f398-8265578401ec"
      },
      "execution_count": null,
      "outputs": [
        {
          "output_type": "display_data",
          "data": {
            "text/html": [
              "<html>\n",
              "<head><meta charset=\"utf-8\" /></head>\n",
              "<body>\n",
              "    <div>            <script src=\"https://cdnjs.cloudflare.com/ajax/libs/mathjax/2.7.5/MathJax.js?config=TeX-AMS-MML_SVG\"></script><script type=\"text/javascript\">if (window.MathJax && window.MathJax.Hub && window.MathJax.Hub.Config) {window.MathJax.Hub.Config({SVG: {font: \"STIX-Web\"}});}</script>                <script type=\"text/javascript\">window.PlotlyConfig = {MathJaxConfig: 'local'};</script>\n",
              "        <script charset=\"utf-8\" src=\"https://cdn.plot.ly/plotly-2.35.2.min.js\"></script>                <div id=\"716ab5c8-a05d-436d-a63e-0a18a7d5c068\" class=\"plotly-graph-div\" style=\"height:525px; width:100%;\"></div>            <script type=\"text/javascript\">                                    window.PLOTLYENV=window.PLOTLYENV || {};                                    if (document.getElementById(\"716ab5c8-a05d-436d-a63e-0a18a7d5c068\")) {                    Plotly.newPlot(                        \"716ab5c8-a05d-436d-a63e-0a18a7d5c068\",                        [{\"marker\":{\"color\":[0.3142918568673425,6.364104112637804,3.143559810763267,5.085706911647028,9.07566473926093,2.4929222914887497,4.103829230356297,7.555511385430487,2.2879816549162246,0.7697990982879299,2.8975145291376805,1.6122128725400442,9.29697652342573,8.08120379564417,6.334037565104235,8.714605901877178,8.036720768991145,1.8657005888603584,8.925589984899778,5.393422419156507,8.074401551640625,8.960912999234932,3.1800347497186388,1.1005192452767676,2.279351625419417,4.271077886262563,8.18014765922493,8.607305832563434,0.06952130531190703,5.107473025775658,4.17411003148779,2.2210781047073027,1.198653673336828,3.3761517140362796,9.429097039125192,3.2320293202075523,5.187906217433661,7.030189588951778,3.63629602379294,9.717820827209607,9.624472949421111,2.5178229582536416,4.972485058923855,3.0087830981676964,2.848404943774676,0.36886947354532795,6.095643339798968,5.026790232288615,0.5147875124998935,2.7864646423661146],\"colorscale\":[[0.0,\"#440154\"],[0.1111111111111111,\"#482878\"],[0.2222222222222222,\"#3e4989\"],[0.3333333333333333,\"#31688e\"],[0.4444444444444444,\"#26828e\"],[0.5555555555555556,\"#1f9e89\"],[0.6666666666666666,\"#35b779\"],[0.7777777777777778,\"#6ece58\"],[0.8888888888888888,\"#b5de2b\"],[1.0,\"#fde725\"]],\"opacity\":0.8,\"size\":5},\"mode\":\"markers\",\"x\":[3.745401188473625,9.50714306409916,7.319939418114051,5.986584841970366,1.5601864044243652,1.5599452033620265,0.5808361216819946,8.661761457749352,6.011150117432088,7.080725777960454,0.20584494295802447,9.699098521619943,8.324426408004218,2.1233911067827616,1.8182496720710062,1.8340450985343382,3.0424224295953772,5.247564316322379,4.319450186421157,2.9122914019804194,6.118528947223795,1.3949386065204183,2.9214464853521815,3.663618432936917,4.56069984217036,7.851759613930136,1.9967378215835974,5.142344384136116,5.924145688620425,0.46450412719997725,6.075448519014383,1.7052412368729153,0.6505159298527952,9.488855372533333,9.656320330745594,8.08397348116461,3.0461376917337066,0.9767211400638387,6.842330265121569,4.4015249373960135,1.2203823484477883,4.951769101112702,0.34388521115218396,9.093204020787821,2.587799816000169,6.62522284353982,3.1171107608941098,5.200680211778108,5.4671027934327965,1.8485445552552704],\"y\":[9.695846277645586,7.7513282336111455,9.394989415641891,8.948273504276488,5.978999788110851,9.218742350231167,0.884925020519195,1.959828624191452,0.45227288910538066,3.2533033076326436,3.8867728968948203,2.713490317738959,8.287375091519294,3.567533266935893,2.8093450968738076,5.426960831582485,1.4092422497476265,8.021969807540398,0.7455064367977082,9.868869366005173,7.722447692966574,1.987156815341724,0.05522117123602399,8.154614284548341,7.068573438476172,7.2900716804098735,7.712703466859457,0.7404465173409036,3.5846572854427263,1.1586905952512971,8.631034258755935,6.232981268275579,3.308980248526492,0.6355835028602363,3.109823217156622,3.2518332202674705,7.29606178338064,6.3755747135521315,8.872127425763265,4.722149251619493,1.195942459383017,7.13244787222995,7.607850486168974,5.612771975694963,7.70967179954561,4.937955963643907,5.227328293819941,4.275410183585496,0.2541912674409519,1.0789142699330445],\"z\":[0.3142918568673425,6.364104112637804,3.143559810763267,5.085706911647028,9.07566473926093,2.4929222914887497,4.103829230356297,7.555511385430487,2.2879816549162246,0.7697990982879299,2.8975145291376805,1.6122128725400442,9.29697652342573,8.08120379564417,6.334037565104235,8.714605901877178,8.036720768991145,1.8657005888603584,8.925589984899778,5.393422419156507,8.074401551640625,8.960912999234932,3.1800347497186388,1.1005192452767676,2.279351625419417,4.271077886262563,8.18014765922493,8.607305832563434,0.06952130531190703,5.107473025775658,4.17411003148779,2.2210781047073027,1.198653673336828,3.3761517140362796,9.429097039125192,3.2320293202075523,5.187906217433661,7.030189588951778,3.63629602379294,9.717820827209607,9.624472949421111,2.5178229582536416,4.972485058923855,3.0087830981676964,2.848404943774676,0.36886947354532795,6.095643339798968,5.026790232288615,0.5147875124998935,2.7864646423661146],\"type\":\"scatter3d\"}],                        {\"template\":{\"data\":{\"histogram2dcontour\":[{\"type\":\"histogram2dcontour\",\"colorbar\":{\"outlinewidth\":0,\"ticks\":\"\"},\"colorscale\":[[0.0,\"#0d0887\"],[0.1111111111111111,\"#46039f\"],[0.2222222222222222,\"#7201a8\"],[0.3333333333333333,\"#9c179e\"],[0.4444444444444444,\"#bd3786\"],[0.5555555555555556,\"#d8576b\"],[0.6666666666666666,\"#ed7953\"],[0.7777777777777778,\"#fb9f3a\"],[0.8888888888888888,\"#fdca26\"],[1.0,\"#f0f921\"]]}],\"choropleth\":[{\"type\":\"choropleth\",\"colorbar\":{\"outlinewidth\":0,\"ticks\":\"\"}}],\"histogram2d\":[{\"type\":\"histogram2d\",\"colorbar\":{\"outlinewidth\":0,\"ticks\":\"\"},\"colorscale\":[[0.0,\"#0d0887\"],[0.1111111111111111,\"#46039f\"],[0.2222222222222222,\"#7201a8\"],[0.3333333333333333,\"#9c179e\"],[0.4444444444444444,\"#bd3786\"],[0.5555555555555556,\"#d8576b\"],[0.6666666666666666,\"#ed7953\"],[0.7777777777777778,\"#fb9f3a\"],[0.8888888888888888,\"#fdca26\"],[1.0,\"#f0f921\"]]}],\"heatmap\":[{\"type\":\"heatmap\",\"colorbar\":{\"outlinewidth\":0,\"ticks\":\"\"},\"colorscale\":[[0.0,\"#0d0887\"],[0.1111111111111111,\"#46039f\"],[0.2222222222222222,\"#7201a8\"],[0.3333333333333333,\"#9c179e\"],[0.4444444444444444,\"#bd3786\"],[0.5555555555555556,\"#d8576b\"],[0.6666666666666666,\"#ed7953\"],[0.7777777777777778,\"#fb9f3a\"],[0.8888888888888888,\"#fdca26\"],[1.0,\"#f0f921\"]]}],\"heatmapgl\":[{\"type\":\"heatmapgl\",\"colorbar\":{\"outlinewidth\":0,\"ticks\":\"\"},\"colorscale\":[[0.0,\"#0d0887\"],[0.1111111111111111,\"#46039f\"],[0.2222222222222222,\"#7201a8\"],[0.3333333333333333,\"#9c179e\"],[0.4444444444444444,\"#bd3786\"],[0.5555555555555556,\"#d8576b\"],[0.6666666666666666,\"#ed7953\"],[0.7777777777777778,\"#fb9f3a\"],[0.8888888888888888,\"#fdca26\"],[1.0,\"#f0f921\"]]}],\"contourcarpet\":[{\"type\":\"contourcarpet\",\"colorbar\":{\"outlinewidth\":0,\"ticks\":\"\"}}],\"contour\":[{\"type\":\"contour\",\"colorbar\":{\"outlinewidth\":0,\"ticks\":\"\"},\"colorscale\":[[0.0,\"#0d0887\"],[0.1111111111111111,\"#46039f\"],[0.2222222222222222,\"#7201a8\"],[0.3333333333333333,\"#9c179e\"],[0.4444444444444444,\"#bd3786\"],[0.5555555555555556,\"#d8576b\"],[0.6666666666666666,\"#ed7953\"],[0.7777777777777778,\"#fb9f3a\"],[0.8888888888888888,\"#fdca26\"],[1.0,\"#f0f921\"]]}],\"surface\":[{\"type\":\"surface\",\"colorbar\":{\"outlinewidth\":0,\"ticks\":\"\"},\"colorscale\":[[0.0,\"#0d0887\"],[0.1111111111111111,\"#46039f\"],[0.2222222222222222,\"#7201a8\"],[0.3333333333333333,\"#9c179e\"],[0.4444444444444444,\"#bd3786\"],[0.5555555555555556,\"#d8576b\"],[0.6666666666666666,\"#ed7953\"],[0.7777777777777778,\"#fb9f3a\"],[0.8888888888888888,\"#fdca26\"],[1.0,\"#f0f921\"]]}],\"mesh3d\":[{\"type\":\"mesh3d\",\"colorbar\":{\"outlinewidth\":0,\"ticks\":\"\"}}],\"scatter\":[{\"fillpattern\":{\"fillmode\":\"overlay\",\"size\":10,\"solidity\":0.2},\"type\":\"scatter\"}],\"parcoords\":[{\"type\":\"parcoords\",\"line\":{\"colorbar\":{\"outlinewidth\":0,\"ticks\":\"\"}}}],\"scatterpolargl\":[{\"type\":\"scatterpolargl\",\"marker\":{\"colorbar\":{\"outlinewidth\":0,\"ticks\":\"\"}}}],\"bar\":[{\"error_x\":{\"color\":\"#2a3f5f\"},\"error_y\":{\"color\":\"#2a3f5f\"},\"marker\":{\"line\":{\"color\":\"#E5ECF6\",\"width\":0.5},\"pattern\":{\"fillmode\":\"overlay\",\"size\":10,\"solidity\":0.2}},\"type\":\"bar\"}],\"scattergeo\":[{\"type\":\"scattergeo\",\"marker\":{\"colorbar\":{\"outlinewidth\":0,\"ticks\":\"\"}}}],\"scatterpolar\":[{\"type\":\"scatterpolar\",\"marker\":{\"colorbar\":{\"outlinewidth\":0,\"ticks\":\"\"}}}],\"histogram\":[{\"marker\":{\"pattern\":{\"fillmode\":\"overlay\",\"size\":10,\"solidity\":0.2}},\"type\":\"histogram\"}],\"scattergl\":[{\"type\":\"scattergl\",\"marker\":{\"colorbar\":{\"outlinewidth\":0,\"ticks\":\"\"}}}],\"scatter3d\":[{\"type\":\"scatter3d\",\"line\":{\"colorbar\":{\"outlinewidth\":0,\"ticks\":\"\"}},\"marker\":{\"colorbar\":{\"outlinewidth\":0,\"ticks\":\"\"}}}],\"scattermapbox\":[{\"type\":\"scattermapbox\",\"marker\":{\"colorbar\":{\"outlinewidth\":0,\"ticks\":\"\"}}}],\"scatterternary\":[{\"type\":\"scatterternary\",\"marker\":{\"colorbar\":{\"outlinewidth\":0,\"ticks\":\"\"}}}],\"scattercarpet\":[{\"type\":\"scattercarpet\",\"marker\":{\"colorbar\":{\"outlinewidth\":0,\"ticks\":\"\"}}}],\"carpet\":[{\"aaxis\":{\"endlinecolor\":\"#2a3f5f\",\"gridcolor\":\"white\",\"linecolor\":\"white\",\"minorgridcolor\":\"white\",\"startlinecolor\":\"#2a3f5f\"},\"baxis\":{\"endlinecolor\":\"#2a3f5f\",\"gridcolor\":\"white\",\"linecolor\":\"white\",\"minorgridcolor\":\"white\",\"startlinecolor\":\"#2a3f5f\"},\"type\":\"carpet\"}],\"table\":[{\"cells\":{\"fill\":{\"color\":\"#EBF0F8\"},\"line\":{\"color\":\"white\"}},\"header\":{\"fill\":{\"color\":\"#C8D4E3\"},\"line\":{\"color\":\"white\"}},\"type\":\"table\"}],\"barpolar\":[{\"marker\":{\"line\":{\"color\":\"#E5ECF6\",\"width\":0.5},\"pattern\":{\"fillmode\":\"overlay\",\"size\":10,\"solidity\":0.2}},\"type\":\"barpolar\"}],\"pie\":[{\"automargin\":true,\"type\":\"pie\"}]},\"layout\":{\"autotypenumbers\":\"strict\",\"colorway\":[\"#636efa\",\"#EF553B\",\"#00cc96\",\"#ab63fa\",\"#FFA15A\",\"#19d3f3\",\"#FF6692\",\"#B6E880\",\"#FF97FF\",\"#FECB52\"],\"font\":{\"color\":\"#2a3f5f\"},\"hovermode\":\"closest\",\"hoverlabel\":{\"align\":\"left\"},\"paper_bgcolor\":\"white\",\"plot_bgcolor\":\"#E5ECF6\",\"polar\":{\"bgcolor\":\"#E5ECF6\",\"angularaxis\":{\"gridcolor\":\"white\",\"linecolor\":\"white\",\"ticks\":\"\"},\"radialaxis\":{\"gridcolor\":\"white\",\"linecolor\":\"white\",\"ticks\":\"\"}},\"ternary\":{\"bgcolor\":\"#E5ECF6\",\"aaxis\":{\"gridcolor\":\"white\",\"linecolor\":\"white\",\"ticks\":\"\"},\"baxis\":{\"gridcolor\":\"white\",\"linecolor\":\"white\",\"ticks\":\"\"},\"caxis\":{\"gridcolor\":\"white\",\"linecolor\":\"white\",\"ticks\":\"\"}},\"coloraxis\":{\"colorbar\":{\"outlinewidth\":0,\"ticks\":\"\"}},\"colorscale\":{\"sequential\":[[0.0,\"#0d0887\"],[0.1111111111111111,\"#46039f\"],[0.2222222222222222,\"#7201a8\"],[0.3333333333333333,\"#9c179e\"],[0.4444444444444444,\"#bd3786\"],[0.5555555555555556,\"#d8576b\"],[0.6666666666666666,\"#ed7953\"],[0.7777777777777778,\"#fb9f3a\"],[0.8888888888888888,\"#fdca26\"],[1.0,\"#f0f921\"]],\"sequentialminus\":[[0.0,\"#0d0887\"],[0.1111111111111111,\"#46039f\"],[0.2222222222222222,\"#7201a8\"],[0.3333333333333333,\"#9c179e\"],[0.4444444444444444,\"#bd3786\"],[0.5555555555555556,\"#d8576b\"],[0.6666666666666666,\"#ed7953\"],[0.7777777777777778,\"#fb9f3a\"],[0.8888888888888888,\"#fdca26\"],[1.0,\"#f0f921\"]],\"diverging\":[[0,\"#8e0152\"],[0.1,\"#c51b7d\"],[0.2,\"#de77ae\"],[0.3,\"#f1b6da\"],[0.4,\"#fde0ef\"],[0.5,\"#f7f7f7\"],[0.6,\"#e6f5d0\"],[0.7,\"#b8e186\"],[0.8,\"#7fbc41\"],[0.9,\"#4d9221\"],[1,\"#276419\"]]},\"xaxis\":{\"gridcolor\":\"white\",\"linecolor\":\"white\",\"ticks\":\"\",\"title\":{\"standoff\":15},\"zerolinecolor\":\"white\",\"automargin\":true,\"zerolinewidth\":2},\"yaxis\":{\"gridcolor\":\"white\",\"linecolor\":\"white\",\"ticks\":\"\",\"title\":{\"standoff\":15},\"zerolinecolor\":\"white\",\"automargin\":true,\"zerolinewidth\":2},\"scene\":{\"xaxis\":{\"backgroundcolor\":\"#E5ECF6\",\"gridcolor\":\"white\",\"linecolor\":\"white\",\"showbackground\":true,\"ticks\":\"\",\"zerolinecolor\":\"white\",\"gridwidth\":2},\"yaxis\":{\"backgroundcolor\":\"#E5ECF6\",\"gridcolor\":\"white\",\"linecolor\":\"white\",\"showbackground\":true,\"ticks\":\"\",\"zerolinecolor\":\"white\",\"gridwidth\":2},\"zaxis\":{\"backgroundcolor\":\"#E5ECF6\",\"gridcolor\":\"white\",\"linecolor\":\"white\",\"showbackground\":true,\"ticks\":\"\",\"zerolinecolor\":\"white\",\"gridwidth\":2}},\"shapedefaults\":{\"line\":{\"color\":\"#2a3f5f\"}},\"annotationdefaults\":{\"arrowcolor\":\"#2a3f5f\",\"arrowhead\":0,\"arrowwidth\":1},\"geo\":{\"bgcolor\":\"white\",\"landcolor\":\"#E5ECF6\",\"subunitcolor\":\"white\",\"showland\":true,\"showlakes\":true,\"lakecolor\":\"white\"},\"title\":{\"x\":0.05},\"mapbox\":{\"style\":\"light\"}}},\"title\":{\"text\":\"3D Scatter Plot Example\"},\"scene\":{\"xaxis\":{\"title\":{\"text\":\"X Axis\"}},\"yaxis\":{\"title\":{\"text\":\"Y Axis\"}},\"zaxis\":{\"title\":{\"text\":\"Z Axis\"}}}},                        {\"responsive\": true}                    ).then(function(){\n",
              "                            \n",
              "var gd = document.getElementById('716ab5c8-a05d-436d-a63e-0a18a7d5c068');\n",
              "var x = new MutationObserver(function (mutations, observer) {{\n",
              "        var display = window.getComputedStyle(gd).display;\n",
              "        if (!display || display === 'none') {{\n",
              "            console.log([gd, 'removed!']);\n",
              "            Plotly.purge(gd);\n",
              "            observer.disconnect();\n",
              "        }}\n",
              "}});\n",
              "\n",
              "// Listen for the removal of the full notebook cells\n",
              "var notebookContainer = gd.closest('#notebook-container');\n",
              "if (notebookContainer) {{\n",
              "    x.observe(notebookContainer, {childList: true});\n",
              "}}\n",
              "\n",
              "// Listen for the clearing of the current output cell\n",
              "var outputEl = gd.closest('.output');\n",
              "if (outputEl) {{\n",
              "    x.observe(outputEl, {childList: true});\n",
              "}}\n",
              "\n",
              "                        })                };                            </script>        </div>\n",
              "</body>\n",
              "</html>"
            ]
          },
          "metadata": {}
        }
      ]
    }
  ]
}